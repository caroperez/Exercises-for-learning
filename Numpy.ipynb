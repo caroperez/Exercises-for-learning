{
 "cells": [
  {
   "cell_type": "markdown",
   "metadata": {},
   "source": [
    "# Numpy"
   ]
  },
  {
   "cell_type": "markdown",
   "metadata": {},
   "source": [
    "Fast and versatile, the NumPy vectorization, indexing, and broadcasting concepts are the de-facto standards of array computing today.\n",
    "\n",
    "NumPy offers comprehensive mathematical functions, random number generators, linear algebra routines, Fourier transforms, and more.\n",
    "\n",
    "NumPy supports a wide range of hardware and computing platforms, and plays well with distributed, GPU, and sparse array libraries.\n",
    "\n",
    "The core of NumPy is well-optimized C code. Enjoy the flexibility of Python with the speed of compiled code.\n",
    "\n",
    "NumPy’s high level syntax makes it accessible and productive for programmers from any background or experience level."
   ]
  },
  {
   "cell_type": "markdown",
   "metadata": {},
   "source": [
    "### 1. NumPy Basic: Exercises, Practice, Solution"
   ]
  },
  {
   "cell_type": "markdown",
   "metadata": {},
   "source": [
    "**1.1.Write a NumPy program to get the numpy version and show numpy build configuration.**"
   ]
  },
  {
   "cell_type": "code",
   "execution_count": 1,
   "metadata": {},
   "outputs": [
    {
     "name": "stdout",
     "output_type": "stream",
     "text": [
      "1.19.2\n",
      "blas_mkl_info:\n",
      "    libraries = ['mkl_rt']\n",
      "    library_dirs = ['C:/ProgramData/Anaconda3\\\\Library\\\\lib']\n",
      "    define_macros = [('SCIPY_MKL_H', None), ('HAVE_CBLAS', None)]\n",
      "    include_dirs = ['C:/ProgramData/Anaconda3\\\\Library\\\\include']\n",
      "blas_opt_info:\n",
      "    libraries = ['mkl_rt']\n",
      "    library_dirs = ['C:/ProgramData/Anaconda3\\\\Library\\\\lib']\n",
      "    define_macros = [('SCIPY_MKL_H', None), ('HAVE_CBLAS', None)]\n",
      "    include_dirs = ['C:/ProgramData/Anaconda3\\\\Library\\\\include']\n",
      "lapack_mkl_info:\n",
      "    libraries = ['mkl_rt']\n",
      "    library_dirs = ['C:/ProgramData/Anaconda3\\\\Library\\\\lib']\n",
      "    define_macros = [('SCIPY_MKL_H', None), ('HAVE_CBLAS', None)]\n",
      "    include_dirs = ['C:/ProgramData/Anaconda3\\\\Library\\\\include']\n",
      "lapack_opt_info:\n",
      "    libraries = ['mkl_rt']\n",
      "    library_dirs = ['C:/ProgramData/Anaconda3\\\\Library\\\\lib']\n",
      "    define_macros = [('SCIPY_MKL_H', None), ('HAVE_CBLAS', None)]\n",
      "    include_dirs = ['C:/ProgramData/Anaconda3\\\\Library\\\\include']\n",
      "None\n"
     ]
    }
   ],
   "source": [
    "# package\n",
    "import numpy as np\n",
    "\n",
    "# solution for exercise 1.1.\n",
    "print(np.__version__)\n",
    "print(np.show_config())"
   ]
  },
  {
   "cell_type": "markdown",
   "metadata": {},
   "source": [
    "**1.2. Write a NumPy program to  get help on the add function.**"
   ]
  },
  {
   "cell_type": "code",
   "execution_count": 2,
   "metadata": {},
   "outputs": [
    {
     "name": "stdout",
     "output_type": "stream",
     "text": [
      "add(x1, x2, /, out=None, *, where=True, casting='same_kind', order='K', dtype=None, subok=True[, signature, extobj])\n",
      "\n",
      "Add arguments element-wise.\n",
      "\n",
      "Parameters\n",
      "----------\n",
      "x1, x2 : array_like\n",
      "    The arrays to be added.\n",
      "    If ``x1.shape != x2.shape``, they must be broadcastable to a common\n",
      "    shape (which becomes the shape of the output).\n",
      "out : ndarray, None, or tuple of ndarray and None, optional\n",
      "    A location into which the result is stored. If provided, it must have\n",
      "    a shape that the inputs broadcast to. If not provided or None,\n",
      "    a freshly-allocated array is returned. A tuple (possible only as a\n",
      "    keyword argument) must have length equal to the number of outputs.\n",
      "where : array_like, optional\n",
      "    This condition is broadcast over the input. At locations where the\n",
      "    condition is True, the `out` array will be set to the ufunc result.\n",
      "    Elsewhere, the `out` array will retain its original value.\n",
      "    Note that if an uninitialized `out` array is created via the default\n",
      "    ``out=None``, locations within it where the condition is False will\n",
      "    remain uninitialized.\n",
      "**kwargs\n",
      "    For other keyword-only arguments, see the\n",
      "    :ref:`ufunc docs <ufuncs.kwargs>`.\n",
      "\n",
      "Returns\n",
      "-------\n",
      "add : ndarray or scalar\n",
      "    The sum of `x1` and `x2`, element-wise.\n",
      "    This is a scalar if both `x1` and `x2` are scalars.\n",
      "\n",
      "Notes\n",
      "-----\n",
      "Equivalent to `x1` + `x2` in terms of array broadcasting.\n",
      "\n",
      "Examples\n",
      "--------\n",
      ">>> np.add(1.0, 4.0)\n",
      "5.0\n",
      ">>> x1 = np.arange(9.0).reshape((3, 3))\n",
      ">>> x2 = np.arange(3.0)\n",
      ">>> np.add(x1, x2)\n",
      "array([[  0.,   2.,   4.],\n",
      "       [  3.,   5.,   7.],\n",
      "       [  6.,   8.,  10.]])\n",
      "None\n"
     ]
    }
   ],
   "source": [
    "# solution exercise 1.2.\n",
    "print(np.info(np.add))"
   ]
  },
  {
   "cell_type": "markdown",
   "metadata": {},
   "source": [
    "**1.3. Write a NumPy program to test whether none of the elements of a given array is zero.**"
   ]
  },
  {
   "cell_type": "code",
   "execution_count": 3,
   "metadata": {},
   "outputs": [
    {
     "name": "stdout",
     "output_type": "stream",
     "text": [
      "True\n",
      "\n",
      "\n",
      "False\n"
     ]
    }
   ],
   "source": [
    "# solution exercise 1.3.\n",
    "\n",
    "# function\n",
    "def any_zero_(x):\n",
    "    '''This program test if have wheter none of the elements given in x is zero.\n",
    "    any_zero_(x) x should be a number or group of numbers'''\n",
    "    return np.all(x)\n",
    "\n",
    "# 2 data elements\n",
    "a = [4, 6, 2, 10]\n",
    "b = [1, 0, 4, 2]\n",
    "\n",
    "# run program\n",
    "print(any_zero_(a)) # expectec False\n",
    "print('\\n') # spaces between answers\n",
    "print(any_zero_(b)) # expectet True"
   ]
  },
  {
   "cell_type": "markdown",
   "metadata": {},
   "source": [
    "**1.4. Write a NumPy program to test whether any of the elements of a given array is non-zero.**"
   ]
  },
  {
   "cell_type": "code",
   "execution_count": 4,
   "metadata": {},
   "outputs": [
    {
     "name": "stdout",
     "output_type": "stream",
     "text": [
      "6.92 µs ± 560 ns per loop (mean ± std. dev. of 7 runs, 100000 loops each)\n"
     ]
    }
   ],
   "source": [
    "# solution exercise 1.4\n",
    "\n",
    "# function A\n",
    "def noany_zero_(x):\n",
    "    '''This program test if have wheter any of the elements given in x is zero.\n",
    "    any_zero_(x) x should be a number or group of numbers'''\n",
    "    return (~(np.all(x)))\n",
    "\n",
    "# funtion B\n",
    "def noany_zero_2(x):\n",
    "    '''This program test if have wheter any of the elements given in x is zero.\n",
    "    any_zero_(x) x should be a number or group of numbers'''\n",
    "    return np.any(x)\n",
    "\n",
    "# run program\n",
    " \n",
    "%timeit noany_zero_(a) # expectec True\n",
    "\n",
    "\n",
    "# %timeit noany_zero_2(b) # expectec False"
   ]
  },
  {
   "cell_type": "code",
   "execution_count": 5,
   "metadata": {},
   "outputs": [
    {
     "name": "stdout",
     "output_type": "stream",
     "text": [
      "6.2 µs ± 353 ns per loop (mean ± std. dev. of 7 runs, 100000 loops each)\n"
     ]
    }
   ],
   "source": [
    "# it's faster function 2 (expected)\n",
    "%timeit noany_zero_2(b) # expectec False"
   ]
  },
  {
   "cell_type": "markdown",
   "metadata": {},
   "source": [
    "**1.5. Write a NumPy program to test a given array element-wise for finiteness (not infinity or not a Number).**"
   ]
  },
  {
   "cell_type": "code",
   "execution_count": 6,
   "metadata": {},
   "outputs": [
    {
     "data": {
      "text/plain": [
       "True"
      ]
     },
     "execution_count": 6,
     "metadata": {},
     "output_type": "execute_result"
    }
   ],
   "source": [
    "# solution exercise 1.5.\n",
    "\n",
    "# function \n",
    "def is_finite(x):\n",
    "    '''Function for determinates if one number X is finite\n",
    "    is_finite(x)'''\n",
    "    return np.isfinite(x)\n",
    "\n",
    "# data \n",
    "a = 1000\n",
    "\n",
    "# run function\n",
    "is_finite(a)"
   ]
  },
  {
   "cell_type": "markdown",
   "metadata": {},
   "source": [
    "**1.6.Write a NumPy program to test element-wise for positive or negative infinity.**"
   ]
  },
  {
   "cell_type": "code",
   "execution_count": 7,
   "metadata": {},
   "outputs": [
    {
     "data": {
      "text/plain": [
       "array([False, False, False, False,  True, False, False, False, False,\n",
       "       False])"
      ]
     },
     "execution_count": 7,
     "metadata": {},
     "output_type": "execute_result"
    }
   ],
   "source": [
    "# soultion for exercise 1.6\n",
    "\n",
    "# data \n",
    "a = np.random.normal(10, 20, 10)\n",
    "a[4] = np.inf\n",
    "\n",
    "# run numpy command\n",
    "np.isinf(a)"
   ]
  },
  {
   "cell_type": "markdown",
   "metadata": {},
   "source": [
    "**1.7.Write a NumPy program to test element-wise for NaN of a given array.**"
   ]
  },
  {
   "cell_type": "code",
   "execution_count": 8,
   "metadata": {},
   "outputs": [
    {
     "data": {
      "text/plain": [
       "array([ True, False, False,  True, False, False,  True, False, False,\n",
       "        True, False, False,  True, False, False,  True, False, False,\n",
       "        True, False, False,  True, False, False,  True, False, False,\n",
       "        True, False, False,  True, False, False,  True, False, False,\n",
       "        True, False, False,  True, False, False,  True, False, False,\n",
       "        True, False, False,  True, False])"
      ]
     },
     "execution_count": 8,
     "metadata": {},
     "output_type": "execute_result"
    }
   ],
   "source": [
    "# solution for exercise 1.7.\n",
    "a = np.random.normal(10, 20, 100)\n",
    "a[::3] = np.nan\n",
    "\n",
    "# run numpy command\n",
    "np.isnan(a[::2])"
   ]
  },
  {
   "cell_type": "markdown",
   "metadata": {},
   "source": [
    "**1.8.Write a NumPy program to test element-wise for complex number, real number of a given array. Also test whether a given number is a scalar type or not.**"
   ]
  },
  {
   "cell_type": "code",
   "execution_count": 14,
   "metadata": {},
   "outputs": [
    {
     "name": "stdout",
     "output_type": "stream",
     "text": [
      "Is complex: False \n",
      " Is real: True \n",
      " Is scalar: True\n"
     ]
    }
   ],
   "source": [
    "# solution exercise 1.8.\n",
    "a = 3\n",
    "print('Is complex:', np.iscomplex(a), '\\n', 'Is real:', \n",
    "      np.isreal(a), '\\n', 'Is scalar:', np.isscalar(a))"
   ]
  },
  {
   "cell_type": "markdown",
   "metadata": {},
   "source": [
    "**1.9.Write a NumPy program to test whether two arrays are element-wise equal within a tolerance.**"
   ]
  },
  {
   "cell_type": "code",
   "execution_count": 15,
   "metadata": {},
   "outputs": [
    {
     "data": {
      "text/plain": [
       "True"
      ]
     },
     "execution_count": 15,
     "metadata": {},
     "output_type": "execute_result"
    }
   ],
   "source": [
    "a = 1.99999999999999999999999999999999999999\n",
    "b = 1 + .999999999999999999999999999999999999\n",
    "\n",
    "# solution exercise 9\n",
    "np.allclose(a, b)"
   ]
  },
  {
   "cell_type": "markdown",
   "metadata": {},
   "source": [
    "**1.10.Write a NumPy program to create an element-wise comparison (greater, greater_equal, less and less_equal) of two given arrays.**"
   ]
  },
  {
   "cell_type": "code",
   "execution_count": 35,
   "metadata": {},
   "outputs": [
    {
     "name": "stdout",
     "output_type": "stream",
     "text": [
      "[[ 0  1  2  3  4]\n",
      " [ 5  6  7  8  9]\n",
      " [10 11 12 13 14]\n",
      " [15 16 17 18 19]\n",
      " [20 21 22 23 24]] \n",
      " [[10.58438573  8.51418054  4.35296931 10.78509369 12.29677337]\n",
      " [ 7.82603291 18.14158183  8.28764169 17.72640396 10.2851471 ]\n",
      " [ 4.11188281 24.19263238 11.60125853 11.48136487  7.07384672]\n",
      " [15.79790019 15.09136738 19.21571569 -0.31974365  6.27486673]\n",
      " [ 7.16844847  3.37485322  8.67382243  9.74992535 11.19622683]]\n",
      "\n",
      " B values greater than A: \n",
      " [[False False False False False]\n",
      " [False False False False False]\n",
      " [ True False  True  True  True]\n",
      " [False  True False  True  True]\n",
      " [ True  True  True  True  True]]\n",
      "\n",
      " B values greater-equal than A: \n",
      " [[False False False False False]\n",
      " [False False False False False]\n",
      " [ True False  True  True  True]\n",
      " [False  True False  True  True]\n",
      " [ True  True  True  True  True]]\n",
      "\n",
      " B values less-equal than A: \n",
      " [[ True  True  True  True  True]\n",
      " [ True  True  True  True  True]\n",
      " [False  True False False False]\n",
      " [ True False  True False False]\n",
      " [False False False False False]]\n",
      "\n",
      " B values less than A: \n",
      " [[ True  True  True  True  True]\n",
      " [ True  True  True  True  True]\n",
      " [False  True False False False]\n",
      " [ True False  True False False]\n",
      " [False False False False False]]\n",
      "[[False False False False False]\n",
      " [False False False False False]\n",
      " [ True False  True  True  True]\n",
      " [False  True False  True  True]\n",
      " [ True  True  True  True  True]]\n",
      "[[False False False False False]\n",
      " [False False False False False]\n",
      " [ True False  True  True  True]\n",
      " [False  True False  True  True]\n",
      " [ True  True  True  True  True]]\n"
     ]
    }
   ],
   "source": [
    "# create matrix\n",
    "a = np.arange(25).reshape(5, 5)\n",
    "b = np.random.normal(12, 5, 25).reshape(5, 5)\n",
    "\n",
    "print(a, '\\n', b)\n",
    "\n",
    "# compare\n",
    "print('\\n', 'B values greater than A:', '\\n', np.greater(a, b))\n",
    "print('\\n', 'B values greater-equal than A:', '\\n', np.greater_equal(a, b))\n",
    "print('\\n', 'B values less-equal than A:', '\\n', np.less_equal(a, b))\n",
    "print('\\n', 'B values less than A:', '\\n', np.less(a, b))"
   ]
  },
  {
   "cell_type": "code",
   "execution_count": 46,
   "metadata": {},
   "outputs": [
    {
     "name": "stdout",
     "output_type": "stream",
     "text": [
      "1.24 µs ± 20.4 ns per loop (mean ± std. dev. of 7 runs, 1000000 loops each)\n",
      "1.18 µs ± 20.3 ns per loop (mean ± std. dev. of 7 runs, 1000000 loops each)\n"
     ]
    }
   ],
   "source": [
    "# note the diference of time in running\n",
    "%timeit np.greater(a, b)\n",
    "%timeit a > b"
   ]
  },
  {
   "cell_type": "code",
   "execution_count": null,
   "metadata": {},
   "outputs": [],
   "source": []
  }
 ],
 "metadata": {
  "kernelspec": {
   "display_name": "Python 3",
   "language": "python",
   "name": "python3"
  },
  "language_info": {
   "codemirror_mode": {
    "name": "ipython",
    "version": 3
   },
   "file_extension": ".py",
   "mimetype": "text/x-python",
   "name": "python",
   "nbconvert_exporter": "python",
   "pygments_lexer": "ipython3",
   "version": "3.7.9"
  }
 },
 "nbformat": 4,
 "nbformat_minor": 4
}
