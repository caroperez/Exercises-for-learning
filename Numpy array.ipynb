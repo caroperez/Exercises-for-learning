{
 "cells": [
  {
   "cell_type": "markdown",
   "metadata": {},
   "source": [
    "# NumPy: Array Object Exercises"
   ]
  },
  {
   "cell_type": "code",
   "execution_count": 1,
   "metadata": {},
   "outputs": [],
   "source": [
    "## numpy package\n",
    "import numpy as np"
   ]
  },
  {
   "cell_type": "markdown",
   "metadata": {},
   "source": [
    "**2.1.Write a NumPy program to print the NumPy version in your system.**"
   ]
  },
  {
   "cell_type": "code",
   "execution_count": 2,
   "metadata": {},
   "outputs": [
    {
     "data": {
      "text/plain": [
       "'1.19.2'"
      ]
     },
     "execution_count": 2,
     "metadata": {},
     "output_type": "execute_result"
    }
   ],
   "source": [
    "# solution for exercise 2.1.\n",
    "np.__version__"
   ]
  },
  {
   "cell_type": "markdown",
   "metadata": {},
   "source": [
    "**2.2.Write a NumPy program to convert a list of numeric value into a one-dimensional NumPy array.**"
   ]
  },
  {
   "cell_type": "code",
   "execution_count": 4,
   "metadata": {},
   "outputs": [],
   "source": [
    "# solution for exercise 2.2.\n",
    "a = {1, 2, 3, 4}\n"
   ]
  },
  {
   "cell_type": "markdown",
   "metadata": {},
   "source": [
    "**2.3.Write a NumPy program to create a 3x3 matrix with values ranging from 2 to 10.**"
   ]
  },
  {
   "cell_type": "code",
   "execution_count": 5,
   "metadata": {},
   "outputs": [
    {
     "data": {
      "text/plain": [
       "array([[ 2,  3,  4],\n",
       "       [ 5,  6,  7],\n",
       "       [ 8,  9, 10]])"
      ]
     },
     "execution_count": 5,
     "metadata": {},
     "output_type": "execute_result"
    }
   ],
   "source": [
    "# solution for exercise 2.3.\n",
    "np.arange(2, 11).reshape(3, 3)"
   ]
  },
  {
   "cell_type": "markdown",
   "metadata": {},
   "source": [
    "**2.4.Write a NumPy program to create a null vector of size 10 and update sixth value to 11.**"
   ]
  },
  {
   "cell_type": "code",
   "execution_count": 8,
   "metadata": {},
   "outputs": [
    {
     "name": "stdout",
     "output_type": "stream",
     "text": [
      "[ 0.  0.  0.  0.  0.  0.  0. 11.  0.  0.]\n"
     ]
    }
   ],
   "source": [
    "# solution exercise 2.4.\n",
    "a = np.zeros(10)\n",
    "a[7] = 11\n",
    "print(a)"
   ]
  },
  {
   "cell_type": "markdown",
   "metadata": {},
   "source": [
    "**2.5.Write a NumPy program to create an array with values ranging from 12 to 38.**"
   ]
  },
  {
   "cell_type": "code",
   "execution_count": 10,
   "metadata": {},
   "outputs": [
    {
     "data": {
      "text/plain": [
       "array([12, 13, 14, 15, 16, 17, 18, 19, 20, 21, 22, 23, 24, 25, 26, 27, 28,\n",
       "       29, 30, 31, 32, 33, 34, 35, 36, 37])"
      ]
     },
     "execution_count": 10,
     "metadata": {},
     "output_type": "execute_result"
    }
   ],
   "source": [
    "# soultion for exercise 2.5.\n",
    "np.arange(12, 38)"
   ]
  },
  {
   "cell_type": "markdown",
   "metadata": {},
   "source": [
    "**2.6.Write a NumPy program to reverse an array (first element becomes last).**"
   ]
  },
  {
   "cell_type": "code",
   "execution_count": 14,
   "metadata": {},
   "outputs": [
    {
     "name": "stdout",
     "output_type": "stream",
     "text": [
      "original array: [1 2 3 4 5 6 7 8 9] \n",
      " reversed: [9 8 7 6 5 4 3 2 1]\n"
     ]
    }
   ],
   "source": [
    "# solution for exercise 2.6.\n",
    "a = np.arange(1, 10)\n",
    "\n",
    "print('original array:', a, '\\n', 'reversed:', a[::-1])"
   ]
  },
  {
   "cell_type": "markdown",
   "metadata": {},
   "source": [
    "**2.7.Write a NumPy program to convert an array to a float type.**"
   ]
  },
  {
   "cell_type": "code",
   "execution_count": 15,
   "metadata": {},
   "outputs": [
    {
     "data": {
      "text/plain": [
       "array([1., 2., 3., 4., 5., 6., 7., 8., 9.], dtype=float32)"
      ]
     },
     "execution_count": 15,
     "metadata": {},
     "output_type": "execute_result"
    }
   ],
   "source": [
    "# solution for exercise 2.8.\n",
    "np.arange(1, 10, dtype = 'float32')"
   ]
  },
  {
   "cell_type": "markdown",
   "metadata": {},
   "source": [
    "**2.8.Write a NumPy program to create a 2d array with 1 on the border and 0 inside.**"
   ]
  },
  {
   "cell_type": "code",
   "execution_count": 30,
   "metadata": {},
   "outputs": [
    {
     "name": "stdout",
     "output_type": "stream",
     "text": [
      "[[1. 1. 1. 1. 1.]\n",
      " [1. 0. 0. 0. 1.]\n",
      " [1. 0. 0. 0. 1.]\n",
      " [1. 0. 0. 0. 1.]\n",
      " [1. 0. 0. 0. 1.]\n",
      " [1. 0. 0. 0. 1.]\n",
      " [1. 0. 0. 0. 1.]\n",
      " [1. 0. 0. 0. 1.]\n",
      " [1. 1. 1. 1. 1.]]\n"
     ]
    }
   ],
   "source": [
    "# soultion for exercise 2.8.\n",
    "a = np.ones(45).reshape(9, 5)\n",
    "\n",
    "a[1: -1, 1: -1] = 0\n",
    "\n",
    "print(a)"
   ]
  },
  {
   "cell_type": "markdown",
   "metadata": {},
   "source": [
    "**2.9.Write a NumPy program to add a border (filled with 0's) around an existing array.**"
   ]
  },
  {
   "cell_type": "code",
   "execution_count": 50,
   "metadata": {},
   "outputs": [
    {
     "data": {
      "text/plain": [
       "array([[0., 0., 0., 0., 0., 0., 0.],\n",
       "       [0., 1., 1., 1., 1., 1., 0.],\n",
       "       [0., 1., 1., 1., 1., 1., 0.],\n",
       "       [0., 1., 1., 1., 1., 1., 0.],\n",
       "       [0., 1., 1., 1., 1., 1., 0.],\n",
       "       [0., 1., 1., 1., 1., 1., 0.],\n",
       "       [0., 1., 1., 1., 1., 1., 0.],\n",
       "       [0., 1., 1., 1., 1., 1., 0.],\n",
       "       [0., 1., 1., 1., 1., 1., 0.],\n",
       "       [0., 1., 1., 1., 1., 1., 0.],\n",
       "       [0., 0., 0., 0., 0., 0., 0.]])"
      ]
     },
     "execution_count": 50,
     "metadata": {},
     "output_type": "execute_result"
    }
   ],
   "source": [
    "# solution for exercise 2.9.\n",
    "a = np.ones(45).reshape(9, 5)\n",
    "\n",
    "np.pad(a, pad_width = 1, mode = 'constant', constant_values = 0)"
   ]
  },
  {
   "cell_type": "markdown",
   "metadata": {},
   "source": [
    "**2.10.Write a NumPy program to create a 8x8 matrix and fill it with a checkerboard pattern.**"
   ]
  },
  {
   "cell_type": "code",
   "execution_count": 62,
   "metadata": {},
   "outputs": [
    {
     "name": "stdout",
     "output_type": "stream",
     "text": [
      "[[0. 1. 0. 1. 0. 1. 0. 1.]\n",
      " [1. 0. 1. 0. 1. 0. 1. 0.]\n",
      " [0. 1. 0. 1. 0. 1. 0. 1.]\n",
      " [1. 0. 1. 0. 1. 0. 1. 0.]\n",
      " [0. 1. 0. 1. 0. 1. 0. 1.]\n",
      " [1. 0. 1. 0. 1. 0. 1. 0.]\n",
      " [0. 1. 0. 1. 0. 1. 0. 1.]\n",
      " [1. 0. 1. 0. 1. 0. 1. 0.]]\n"
     ]
    }
   ],
   "source": [
    "# solution for exercise 2.10.\n",
    "a = np.zeros(64).reshape(8, 8)\n",
    "a[::2, 1::2] = 1\n",
    "a[1::2, ::2] = 1\n",
    "\n",
    "print(a)"
   ]
  },
  {
   "cell_type": "markdown",
   "metadata": {},
   "source": [
    "**2.11.Write a NumPy program to convert a list and tuple into arrays.**"
   ]
  },
  {
   "cell_type": "code",
   "execution_count": 7,
   "metadata": {},
   "outputs": [
    {
     "name": "stdout",
     "output_type": "stream",
     "text": [
      "[1, 6, 3] \n",
      " [[7, 7], [9, 9]]\n"
     ]
    }
   ],
   "source": [
    "# solution for exercise 2.11.\n",
    "a = [1, 6, 3]\n",
    "b = [[7, 7], [9, 9]]\n",
    "\n",
    "aa = np.asarray(a)\n",
    "bb = np.asarray(b)\n",
    "\n",
    "print(a, '\\n', b)"
   ]
  },
  {
   "cell_type": "markdown",
   "metadata": {},
   "source": [
    "**2.12.Write a NumPy program to append values to the end of an array.**"
   ]
  },
  {
   "cell_type": "code",
   "execution_count": 10,
   "metadata": {},
   "outputs": [
    {
     "data": {
      "text/plain": [
       "array([1, 6, 3, 7, 3, 5])"
      ]
     },
     "execution_count": 10,
     "metadata": {},
     "output_type": "execute_result"
    }
   ],
   "source": [
    "# solution for exercise 2.12.\n",
    "a = np.array([1, 6, 3])\n",
    "np.append(a, [7, 3, 5])"
   ]
  },
  {
   "cell_type": "markdown",
   "metadata": {},
   "source": [
    "**2.13.Write a NumPy program to create an empty and a full array.**"
   ]
  },
  {
   "cell_type": "code",
   "execution_count": 17,
   "metadata": {},
   "outputs": [
    {
     "name": "stdout",
     "output_type": "stream",
     "text": [
      "[[6.23042070e-307 3.56043053e-307 1.60219306e-306 7.56571288e-307\n",
      "  1.89146896e-307]\n",
      " [1.37961302e-306 1.05699242e-307 8.01097889e-307 1.78020169e-306\n",
      "  7.56601165e-307]\n",
      " [1.02359984e-306 1.42417221e-306 1.42419530e-306 1.37962456e-306\n",
      "  1.11260959e-306]\n",
      " [1.78021527e-306 1.69119330e-306 2.22523140e-306 1.78018811e-306\n",
      "  1.69120552e-306]\n",
      " [1.29062025e-306 1.37961709e-306 2.22522596e-306 2.22522596e-306\n",
      "  2.22809558e-312]] \n",
      " [[5 5 5 5 5 5]\n",
      " [5 5 5 5 5 5]\n",
      " [5 5 5 5 5 5]\n",
      " [5 5 5 5 5 5]\n",
      " [5 5 5 5 5 5]\n",
      " [5 5 5 5 5 5]]\n"
     ]
    }
   ],
   "source": [
    "# solution for exercise 2.13.\n",
    "a = np.empty((5, 5))\n",
    "b = np.full((6, 6), 5)\n",
    "\n",
    "print(a, '\\n', b)"
   ]
  },
  {
   "cell_type": "markdown",
   "metadata": {},
   "source": [
    "**2.14.Write a NumPy program to convert the values of Centigrade degrees into Fahrenheit degrees. Centigrade values are stored into a NumPy array.**"
   ]
  },
  {
   "cell_type": "code",
   "execution_count": 19,
   "metadata": {},
   "outputs": [
    {
     "name": "stdout",
     "output_type": "stream",
     "text": [
      "[39.2 78.8 91.4 64.4]\n"
     ]
    }
   ],
   "source": [
    "# solution exercise 2.14.\n",
    "c = np.asarray([4, 26, 33, 18])\n",
    "\n",
    "print((c *  (9 / 5)) + 32)"
   ]
  },
  {
   "cell_type": "markdown",
   "metadata": {},
   "source": [
    "**2.15.Write a NumPy program to find the real and imaginary parts of an array of complex numbers.**"
   ]
  },
  {
   "cell_type": "code",
   "execution_count": 24,
   "metadata": {},
   "outputs": [
    {
     "name": "stdout",
     "output_type": "stream",
     "text": [
      "part real: [1. 4.] part imaginary: [3. 3.]\n"
     ]
    }
   ],
   "source": [
    "# solution for exercise 2.15.\n",
    "a = np.asarray([1 +3j, 4 + 3j], dtype = 'complex')\n",
    "\n",
    "print('part real:', np.real(a), 'part imaginary:', np.imag(a))"
   ]
  },
  {
   "cell_type": "markdown",
   "metadata": {},
   "source": [
    "**2.16.Write a NumPy program to find the number of elements of an array, length of one array element in bytes and total bytes consumed by the elements.**"
   ]
  },
  {
   "cell_type": "code",
   "execution_count": 5,
   "metadata": {},
   "outputs": [
    {
     "name": "stdout",
     "output_type": "stream",
     "text": [
      "size: 50 \n",
      "item size: 8 \n",
      "bytes size: 400\n"
     ]
    }
   ],
   "source": [
    "# solution for exercise 2.16.\n",
    "a = np.random.normal(10, 3, 50). reshape(10, 5)\n",
    "\n",
    "s = a.size\n",
    "i = a.itemsize\n",
    "b = a.nbytes\n",
    "\n",
    "print('size: {} \\nitem size: {} \\nbytes size: {}'.format(s, i, b))"
   ]
  },
  {
   "cell_type": "markdown",
   "metadata": {},
   "source": [
    "**2.17.Write a NumPy program to test whether each element of a 1-D array is also present in a second array.**"
   ]
  },
  {
   "cell_type": "code",
   "execution_count": 9,
   "metadata": {},
   "outputs": [
    {
     "name": "stdout",
     "output_type": "stream",
     "text": [
      "[ True False  True False  True False  True False  True False  True False\n",
      "  True False  True False  True False  True False  True False  True False\n",
      "  True False  True False  True False]\n",
      "[ True False False  True False False  True False False  True False False\n",
      "  True False False  True False False  True False False  True False False\n",
      "  True False False  True False False]\n"
     ]
    }
   ],
   "source": [
    "# solution for exercise 2.17.\n",
    "a = np.arange(10, 100, 3)\n",
    "b = np.arange(10, 100, 6)\n",
    "c = np.arange(10, 100, 9)\n",
    "\n",
    "print(np.in1d(a, b))\n",
    "print(np.in1d(a, c))"
   ]
  },
  {
   "cell_type": "markdown",
   "metadata": {},
   "source": [
    "**2.18.Write a NumPy program to find common values between two arrays.**"
   ]
  },
  {
   "cell_type": "code",
   "execution_count": 6,
   "metadata": {},
   "outputs": [
    {
     "name": "stdout",
     "output_type": "stream",
     "text": [
      "[10 16 22 28 34 40 46 52 58 64 70 76 82 88 94]\n"
     ]
    }
   ],
   "source": [
    "# solution for exercise 2.18.\n",
    "a = np.arange(10, 100, 3)\n",
    "b = np.arange(10, 100, 6)\n",
    "\n",
    "print(np.intersect1d(a, b))"
   ]
  },
  {
   "cell_type": "markdown",
   "metadata": {},
   "source": [
    "**2.19.Write a NumPy program to get the unique elements of an array.**"
   ]
  },
  {
   "cell_type": "code",
   "execution_count": 19,
   "metadata": {},
   "outputs": [
    {
     "data": {
      "text/plain": [
       "array([1, 2, 4, 5, 6, 7])"
      ]
     },
     "execution_count": 19,
     "metadata": {},
     "output_type": "execute_result"
    }
   ],
   "source": [
    "# solution for exercise 2.19.\n",
    "a = np.random.randint(1, 10, 10)\n",
    "\n",
    "np.unique(a)"
   ]
  },
  {
   "cell_type": "markdown",
   "metadata": {},
   "source": [
    "**2.20.Write a NumPy program to find the set difference of two arrays. The set difference will return the sorted, unique values in array1 that are not in array2.**"
   ]
  },
  {
   "cell_type": "code",
   "execution_count": 4,
   "metadata": {},
   "outputs": [
    {
     "name": "stdout",
     "output_type": "stream",
     "text": [
      "[13 19 25 31 37 43 49 55 61 67 73 79 85 91 97]\n"
     ]
    }
   ],
   "source": [
    "# solution for exercise 2.20.\n",
    "a = np.arange(10, 100, 3)\n",
    "b = np.arange(10, 100, 6)\n",
    "\n",
    "print(np.setdiff1d(a, b))"
   ]
  },
  {
   "cell_type": "markdown",
   "metadata": {},
   "source": [
    "**2.21.Write a NumPy program to find the set exclusive-or of two arrays. Set exclusive-or will return the sorted, unique values that are in only one (not both) of the input arrays.**"
   ]
  },
  {
   "cell_type": "code",
   "execution_count": 27,
   "metadata": {},
   "outputs": [
    {
     "name": "stdout",
     "output_type": "stream",
     "text": [
      "[13 19 25 31 37 43 49 55 61 67 73 79 85 91 97]\n"
     ]
    }
   ],
   "source": [
    "# solution for exercise 2.21.\n",
    "a = np.arange(10, 100, 3)\n",
    "b = np.arange(10, 100, 6)\n",
    "\n",
    "print(np.setxor1d(a, b))"
   ]
  },
  {
   "cell_type": "markdown",
   "metadata": {},
   "source": [
    "**2.22.Write a NumPy program to find the union of two arrays. Union will return the unique, sorted array of values that are in either of the two input arrays.**"
   ]
  },
  {
   "cell_type": "code",
   "execution_count": 3,
   "metadata": {},
   "outputs": [
    {
     "name": "stdout",
     "output_type": "stream",
     "text": [
      "[10 13 16 19 22 25 28 31 34 37 40 43 46 49 52 55 58 61 64 67 70 73 76 79\n",
      " 82 85 88 91 94 97]\n"
     ]
    }
   ],
   "source": [
    "# solution for exercise 2.22.\n",
    "a = np.arange(10, 100, 3)\n",
    "b = np.arange(10, 100, 6)\n",
    "\n",
    "print(np.union1d(a, b))"
   ]
  },
  {
   "cell_type": "markdown",
   "metadata": {},
   "source": [
    "**2.23.Write a NumPy program to test whether all elements in an array evaluate to True.**"
   ]
  },
  {
   "cell_type": "code",
   "execution_count": 29,
   "metadata": {},
   "outputs": [
    {
     "name": "stdout",
     "output_type": "stream",
     "text": [
      "True\n",
      "False\n"
     ]
    }
   ],
   "source": [
    "# solution for exercise 2.23.\n",
    "a = np.arange(10, 100, 3)\n",
    "b = np.arange(10, 100, 3)\n",
    "c = np.arange(10, 100, 9)\n",
    "\n",
    "print(np.all(np.in1d(a, b)))\n",
    "print(np.all(np.in1d(a, c)))"
   ]
  },
  {
   "cell_type": "markdown",
   "metadata": {},
   "source": [
    "**2.24.Write a NumPy program to test whether any array element along a given axis evaluates to True.**"
   ]
  },
  {
   "cell_type": "code",
   "execution_count": 44,
   "metadata": {},
   "outputs": [
    {
     "name": "stdout",
     "output_type": "stream",
     "text": [
      "True\n"
     ]
    }
   ],
   "source": [
    "# solution for exercise 2.24.\n",
    "a = np.arange(1, 26).reshape(5, 5)\n",
    "b = np.arange(1, 26)[::-1].reshape(5, 5)\n",
    "\n",
    "print(np.any([[a], [b]]))"
   ]
  },
  {
   "cell_type": "markdown",
   "metadata": {},
   "source": [
    "**2.25. Write a NumPy program to construct an array by repeating.**"
   ]
  },
  {
   "cell_type": "code",
   "execution_count": 48,
   "metadata": {},
   "outputs": [
    {
     "name": "stdout",
     "output_type": "stream",
     "text": [
      "[1 2 3 4 1 2 3 4] \n",
      "\n",
      "[1 2 3 4 1 2 3 4 1 2 3 4 1 2 3 4 1 2 3 4]\n"
     ]
    }
   ],
   "source": [
    "# solution for exercise 2.25.\n",
    "a = np.arange(1, 5)\n",
    "\n",
    "print(np.tile(a, 2), '\\n')\n",
    "print(np.tile(a, 5))"
   ]
  },
  {
   "cell_type": "markdown",
   "metadata": {},
   "source": [
    "**2.26.Write a NumPy program to repeat elements of an array.**"
   ]
  },
  {
   "cell_type": "code",
   "execution_count": 11,
   "metadata": {},
   "outputs": [
    {
     "name": "stdout",
     "output_type": "stream",
     "text": [
      "[1 1 1 1 1 4 4 4 4 4 2 2 2 2 2 3 3 3 3 3]\n"
     ]
    }
   ],
   "source": [
    "# solution for exercise 2.26.\n",
    "print(np.repeat([1, 4, 2, 3], 5))"
   ]
  },
  {
   "cell_type": "markdown",
   "metadata": {},
   "source": [
    "**2.27.Write a NumPy program to find the indices of the maximum and minimum values along the given axis of an array.**"
   ]
  },
  {
   "cell_type": "code",
   "execution_count": 16,
   "metadata": {},
   "outputs": [
    {
     "name": "stdout",
     "output_type": "stream",
     "text": [
      "Max value: 87 \n",
      "Possition of Max value: 7\n"
     ]
    }
   ],
   "source": [
    "# solution for exercise 2.27.\n",
    "a = np.array([1, 5, 34, 2, 8, 56, 4, 87])\n",
    "print('Max value: {} \\nPossition of Max value: {}'.format(np.max(a), np.argmax(a)))"
   ]
  },
  {
   "cell_type": "markdown",
   "metadata": {},
   "source": [
    "**2.28. Write a NumPy program compare two given arrays.**"
   ]
  },
  {
   "cell_type": "code",
   "execution_count": 23,
   "metadata": {},
   "outputs": [
    {
     "name": "stdout",
     "output_type": "stream",
     "text": [
      "Less: [[False False False False False]\n",
      " [ True False  True False  True]\n",
      " [False  True False  True False]\n",
      " [ True False False False  True]\n",
      " [False  True False False False]]\n",
      "\n",
      "\n",
      "Less or equal: [[False False False False False]\n",
      " [ True False  True False  True]\n",
      " [False  True False  True False]\n",
      " [ True False False False  True]\n",
      " [False  True False False False]]\n",
      "\n",
      "\n",
      "Equal: [[False False False False False]\n",
      " [False False False False False]\n",
      " [False False False False False]\n",
      " [False False False False False]\n",
      " [False False False False False]]\n",
      "\n",
      "\n",
      "\\Greater or equal: [[ True  True  True  True  True]\n",
      " [False  True False  True False]\n",
      " [ True False  True False  True]\n",
      " [False  True  True  True False]\n",
      " [ True False  True  True  True]]\n",
      "\n",
      "\n",
      "Greater: [[ True  True  True  True  True]\n",
      " [False  True False  True False]\n",
      " [ True False  True False  True]\n",
      " [False  True  True  True False]\n",
      " [ True False  True  True  True]]\n"
     ]
    }
   ],
   "source": [
    "# solution for exercise 2.28.\n",
    "a = np.random.normal(5, 3, 25).reshape(5, 5)\n",
    "b = np.random.normal(5, 3, 25).reshape(5, 5)\n",
    "\n",
    "print('Less: {}'.format(np.less(a, b)))\n",
    "print('\\n')\n",
    "print('Less or equal: {}'.format(np.less_equal(a, b)))\n",
    "print('\\n')\n",
    "print('Equal: {}'.format(np.equal(a, b)))\n",
    "print('\\n')\n",
    "print('\\Greater or equal: {}'.format(np.greater_equal(a, b)))\n",
    "print('\\n')\n",
    "print('Greater: {}'.format(np.greater(a, b)))"
   ]
  },
  {
   "cell_type": "markdown",
   "metadata": {},
   "source": [
    "**2.29.Write a NumPy program to sort an along the first, last axis of an array.**"
   ]
  },
  {
   "cell_type": "code",
   "execution_count": 28,
   "metadata": {},
   "outputs": [
    {
     "name": "stdout",
     "output_type": "stream",
     "text": [
      "[[ 3.63248698  9.56820369 10.3905982   4.35730495  7.53767268]\n",
      " [ 4.82794223  3.85079689  4.62957815  2.0936873   5.86037691]\n",
      " [ 3.2229657   3.21381137  9.67483012  3.30519047  2.18440846]\n",
      " [ 3.34217029  5.43854697  7.66238882  6.39253297  5.37639886]\n",
      " [ 5.63175831  3.80919483  3.68659959  9.80185467  3.24139518]]\n",
      "\n",
      "\n",
      "[[ 3.2229657   3.21381137  3.68659959  2.0936873   2.18440846]\n",
      " [ 3.34217029  3.80919483  4.62957815  3.30519047  3.24139518]\n",
      " [ 3.63248698  3.85079689  7.66238882  4.35730495  5.37639886]\n",
      " [ 4.82794223  5.43854697  9.67483012  6.39253297  5.86037691]\n",
      " [ 5.63175831  9.56820369 10.3905982   9.80185467  7.53767268]]\n",
      "\n",
      "\n",
      "[[ 3.63248698  4.35730495  7.53767268  9.56820369 10.3905982 ]\n",
      " [ 2.0936873   3.85079689  4.62957815  4.82794223  5.86037691]\n",
      " [ 2.18440846  3.21381137  3.2229657   3.30519047  9.67483012]\n",
      " [ 3.34217029  5.37639886  5.43854697  6.39253297  7.66238882]\n",
      " [ 3.24139518  3.68659959  3.80919483  5.63175831  9.80185467]]\n"
     ]
    }
   ],
   "source": [
    "# solution for exercise 2.29.\n",
    "a = np.random.normal(5, 3, 25).reshape(5, 5)\n",
    "\n",
    "print(a)\n",
    "print('\\n')\n",
    "print(np.sort(a, axis = 0))\n",
    "print('\\n')\n",
    "print(np.sort(a, axis = 1))"
   ]
  },
  {
   "cell_type": "markdown",
   "metadata": {},
   "source": [
    "**2.30.Write a NumPy program to sort pairs of first name and last name return their indices. (first by last name, then by first name).**"
   ]
  },
  {
   "cell_type": "code",
   "execution_count": 4,
   "metadata": {},
   "outputs": [
    {
     "name": "stdout",
     "output_type": "stream",
     "text": [
      "[3 1 2 0]\n"
     ]
    }
   ],
   "source": [
    "# solution for exercise 2.30.\n",
    "last_names = ['Perez', 'Merino', 'Navarro', 'Caro']\n",
    "first_names = ['Oriol', 'Maria', 'Nuria', 'Cristina']\n",
    "\n",
    "print(np.lexsort((last_names, first_names)))"
   ]
  },
  {
   "cell_type": "markdown",
   "metadata": {},
   "source": [
    "**2.31.Write a NumPy program to get the values and indices of the elements that are bigger than 10 in a given array.**"
   ]
  },
  {
   "cell_type": "code",
   "execution_count": 9,
   "metadata": {},
   "outputs": [
    {
     "name": "stdout",
     "output_type": "stream",
     "text": [
      "bigger than 10: [17 16 17 18 12 14 19 17 19 17 18 12 17 11 19 12 11 13 17 17 18 18 18 11\n",
      " 11 16] \n",
      "possition: [(0, 1), (0, 3), (0, 4), (0, 5), (0, 6), (0, 7), (1, 0), (1, 2), (1, 4), (1, 6), (1, 7), (1, 8), (2, 3), (2, 4), (2, 5), (2, 7), (2, 9), (3, 0), (3, 1), (3, 2), (3, 5), (3, 6), (3, 7), (4, 2), (4, 5), (4, 6)]\n"
     ]
    }
   ],
   "source": [
    "# solution for exercise 2.31.\n",
    "a = np.random.randint(1, 20, 50).reshape(5, 10)\n",
    "\n",
    "b = a[a > 10]\n",
    "c , d= np.nonzero(a > 10)\n",
    "\n",
    "print('bigger than 10: {} \\npossition: {}'.format(b, list(zip(c, d))))"
   ]
  },
  {
   "cell_type": "markdown",
   "metadata": {},
   "source": [
    "**2.32.Write a NumPy program to find the memory size of a NumPy array.**"
   ]
  },
  {
   "cell_type": "code",
   "execution_count": 11,
   "metadata": {},
   "outputs": [
    {
     "name": "stdout",
     "output_type": "stream",
     "text": [
      "memory size of numpy array object a: 20000\n"
     ]
    }
   ],
   "source": [
    "# solution for exercise 2.32.\n",
    "a = np.random.randint(4, 99, 5000)\n",
    "\n",
    "print('memory size of numpy array object a: {}'.format(a.size * a.itemsize))"
   ]
  },
  {
   "cell_type": "markdown",
   "metadata": {},
   "source": [
    "**2.33.Write a NumPy program to create an array of ones and an array of zeros.**"
   ]
  },
  {
   "cell_type": "code",
   "execution_count": 13,
   "metadata": {},
   "outputs": [
    {
     "name": "stdout",
     "output_type": "stream",
     "text": [
      "[0. 0. 0. 0. 0. 0. 0. 0. 0. 0. 0. 0. 0. 0. 0. 0. 0. 0. 0. 0. 0. 0. 0. 0.\n",
      " 0. 0. 0. 0. 0. 0. 0. 0. 0. 0. 0. 0. 0. 0. 0. 0. 0. 0. 0. 0. 0. 0. 0. 0.\n",
      " 0. 0. 0. 0. 0. 0. 0. 0. 0. 0. 0. 0. 0. 0. 0. 0. 0. 0. 0. 0. 0. 0. 0. 0.\n",
      " 0. 0. 0. 0. 0. 0. 0. 0. 0. 0. 0. 0. 0. 0. 0. 0. 0. 0.] \n",
      "\n",
      "[1. 1. 1. 1. 1. 1. 1. 1. 1. 1. 1. 1. 1. 1. 1. 1. 1. 1. 1. 1. 1. 1. 1. 1.\n",
      " 1. 1. 1. 1. 1. 1. 1. 1. 1. 1. 1. 1. 1. 1. 1. 1. 1. 1. 1. 1. 1. 1. 1. 1.\n",
      " 1. 1. 1. 1. 1. 1. 1. 1. 1. 1. 1. 1. 1. 1. 1. 1. 1. 1. 1. 1. 1. 1. 1. 1.\n",
      " 1. 1. 1. 1. 1. 1. 1. 1. 1. 1. 1. 1. 1. 1. 1. 1. 1. 1.]\n"
     ]
    }
   ],
   "source": [
    "# solution for exercise 2.33.\n",
    "\n",
    "# array zeros\n",
    "print(np.zeros(90), '\\n')\n",
    "\n",
    "# array ones\n",
    "print(np.ones(90))"
   ]
  },
  {
   "cell_type": "markdown",
   "metadata": {},
   "source": [
    "**2.34.Write a NumPy program to change the dimension of an array.**"
   ]
  },
  {
   "cell_type": "code",
   "execution_count": 14,
   "metadata": {},
   "outputs": [
    {
     "data": {
      "text/plain": [
       "array([[ 0,  1,  2,  3],\n",
       "       [ 4,  5,  6,  7],\n",
       "       [ 8,  9, 10, 11],\n",
       "       [12, 13, 14, 15]])"
      ]
     },
     "execution_count": 14,
     "metadata": {},
     "output_type": "execute_result"
    }
   ],
   "source": [
    "# solution for exercise 2.34.\n",
    "a = np.arange(0, 16)\n",
    "\n",
    "a.reshape(4, 4)"
   ]
  },
  {
   "cell_type": "markdown",
   "metadata": {},
   "source": [
    "**2.35.Write a NumPy program to create a contiguous flattened array.**"
   ]
  },
  {
   "cell_type": "code",
   "execution_count": 18,
   "metadata": {},
   "outputs": [
    {
     "name": "stdout",
     "output_type": "stream",
     "text": [
      "[10 20 30 40 50 60]\n"
     ]
    }
   ],
   "source": [
    "# solution for exercise 2.35.\n",
    "a = np.array([[10, 20, 30], [40, 50, 60]])\n",
    "\n",
    "print(np.ravel(a))"
   ]
  },
  {
   "cell_type": "markdown",
   "metadata": {},
   "source": [
    "**2.36.Write a NumPy program to create a 2-dimensional array of size 2 x 3 (composed of 4-byte integer elements), also print the shape, type and data type of the array.**"
   ]
  },
  {
   "cell_type": "code",
   "execution_count": 15,
   "metadata": {},
   "outputs": [
    {
     "name": "stdout",
     "output_type": "stream",
     "text": [
      "Shape: (2, 3)  Type = <class 'numpy.ndarray'>  data type: int32\n"
     ]
    }
   ],
   "source": [
    "# solution for exercise 2.36.\n",
    "a = np.random.randint(1, 10, 6, np.int32).reshape(2, 3)\n",
    "\n",
    "b = a.shape\n",
    "c = type(a)\n",
    "d = a.dtype\n",
    "\n",
    "print('Shape: {}  Type = {}  data type: {}'.format(b, c, d))"
   ]
  },
  {
   "cell_type": "markdown",
   "metadata": {},
   "source": [
    "**2.37.Write a NumPy program to create a new shape to an array without changing its data.**"
   ]
  },
  {
   "cell_type": "code",
   "execution_count": 16,
   "metadata": {},
   "outputs": [
    {
     "name": "stdout",
     "output_type": "stream",
     "text": [
      "[[26 26 16  7 28 26 13 23 12  1 17]\n",
      " [ 9 25 10 21 26  5 24 26 18  4 13]\n",
      " [16 22 10  3  8 12 22 15  1 22  2]\n",
      " [18  7  9 18 26 27  3 17  5  1 11]\n",
      " [12  7 17 11 19 28  1 29 27 20  8]\n",
      " [ 7 21  5 15 24 29 11  7 27  1 28]\n",
      " [26 23 21  1 28  2 27 20 16  2 18]\n",
      " [15  3  1 11 17  7 28  9 28 19 24]]\n",
      "\n",
      "\n",
      "[[26 26 16  7 28 26 13 23]\n",
      " [12  1 17  9 25 10 21 26]\n",
      " [ 5 24 26 18  4 13 16 22]\n",
      " [10  3  8 12 22 15  1 22]\n",
      " [ 2 18  7  9 18 26 27  3]\n",
      " [17  5  1 11 12  7 17 11]\n",
      " [19 28  1 29 27 20  8  7]\n",
      " [21  5 15 24 29 11  7 27]\n",
      " [ 1 28 26 23 21  1 28  2]\n",
      " [27 20 16  2 18 15  3  1]\n",
      " [11 17  7 28  9 28 19 24]]\n"
     ]
    }
   ],
   "source": [
    "# solution for exercise 2.37.\n",
    "a = np.random.randint(1, 30, 88).reshape(8, 11)\n",
    "\n",
    "print(a)\n",
    "\n",
    "print('\\n')\n",
    "\n",
    "print(a.reshape(11, 8))"
   ]
  },
  {
   "cell_type": "markdown",
   "metadata": {},
   "source": [
    "**2.38.Write a NumPy program to change the data type of an array.**"
   ]
  },
  {
   "cell_type": "code",
   "execution_count": 23,
   "metadata": {},
   "outputs": [
    {
     "name": "stdout",
     "output_type": "stream",
     "text": [
      "<class 'numpy.ndarray'> <class 'numpy.ndarray'> \n",
      "\n",
      "[24 15 11 10 17 32 45 18  8 33  6 20 47 17  1 15 15 22 18 27 49 20 22 18\n",
      " 17 22  1 37 32 25] \n",
      " [24. 15. 11. 10. 17. 32. 45. 18.  8. 33.  6. 20. 47. 17.  1. 15. 15. 22.\n",
      " 18. 27. 49. 20. 22. 18. 17. 22.  1. 37. 32. 25.]\n"
     ]
    }
   ],
   "source": [
    "# solution for exercise 2.38.\n",
    "a = np.random.randint(1, 50, 30, np.int16)\n",
    "b = a.astype(float)\n",
    "\n",
    "print(type(a), type(b), '\\n')\n",
    "print(a, '\\n', b)"
   ]
  },
  {
   "cell_type": "markdown",
   "metadata": {},
   "source": [
    "**2.39.Write a NumPy program to create a new array of 3*5, filled with 2.**"
   ]
  },
  {
   "cell_type": "code",
   "execution_count": 4,
   "metadata": {},
   "outputs": [
    {
     "data": {
      "text/plain": [
       "array([[2., 2., 2., 2., 2.],\n",
       "       [2., 2., 2., 2., 2.],\n",
       "       [2., 2., 2., 2., 2.]])"
      ]
     },
     "execution_count": 4,
     "metadata": {},
     "output_type": "execute_result"
    }
   ],
   "source": [
    "# solution for exercise 2.39.\n",
    "np.ones(15).reshape(3, 5) * 2"
   ]
  },
  {
   "cell_type": "markdown",
   "metadata": {},
   "source": [
    "**2.40.Write a NumPy program to create an array of 10's with the same shape and type of a given array.**"
   ]
  },
  {
   "cell_type": "code",
   "execution_count": 11,
   "metadata": {},
   "outputs": [
    {
     "data": {
      "text/plain": [
       "array([10, 10, 10, 10], dtype=int64)"
      ]
     },
     "execution_count": 11,
     "metadata": {},
     "output_type": "execute_result"
    }
   ],
   "source": [
    "# solution for exercise 2.40.\n",
    "a = np.arange(4, dtype= np.int64)\n",
    "np.full_like(a, 10)"
   ]
  },
  {
   "cell_type": "markdown",
   "metadata": {},
   "source": [
    "**2.41.Write a NumPy program to create a 3-D array with ones on a diagonal and zeros elsewhere.**"
   ]
  },
  {
   "cell_type": "code",
   "execution_count": 9,
   "metadata": {},
   "outputs": [
    {
     "data": {
      "text/plain": [
       "array([[1., 0., 0.],\n",
       "       [0., 1., 0.],\n",
       "       [0., 0., 1.]])"
      ]
     },
     "execution_count": 9,
     "metadata": {},
     "output_type": "execute_result"
    }
   ],
   "source": [
    "# solution for exercise 2.41.\n",
    "np.eye(3)"
   ]
  },
  {
   "cell_type": "markdown",
   "metadata": {},
   "source": [
    "**2.42.Write a NumPy program to create a 2-D array whose diagonal equals [4, 5, 6, 8] and 0's elsewhere.**"
   ]
  },
  {
   "cell_type": "code",
   "execution_count": 14,
   "metadata": {},
   "outputs": [
    {
     "data": {
      "text/plain": [
       "array([[4, 0, 0, 0],\n",
       "       [0, 5, 0, 0],\n",
       "       [0, 0, 6, 0],\n",
       "       [0, 0, 0, 8]])"
      ]
     },
     "execution_count": 14,
     "metadata": {},
     "output_type": "execute_result"
    }
   ],
   "source": [
    "# solution for exercise 2.42.\n",
    "np.diagflat([4, 5, 6, 8])"
   ]
  },
  {
   "cell_type": "markdown",
   "metadata": {},
   "source": [
    "**2.43.Write a NumPy program to create a 1-D array going from 0 to 50 and an array from 10 to 50.**"
   ]
  },
  {
   "cell_type": "code",
   "execution_count": 15,
   "metadata": {},
   "outputs": [
    {
     "name": "stdout",
     "output_type": "stream",
     "text": [
      "[ 0  1  2  3  4  5  6  7  8  9 10 11 12 13 14 15 16 17 18 19 20 21 22 23\n",
      " 24 25 26 27 28 29 30 31 32 33 34 35 36 37 38 39 40 41 42 43 44 45 46 47\n",
      " 48 49] \n",
      " [10 11 12 13 14 15 16 17 18 19 20 21 22 23 24 25 26 27 28 29 30 31 32 33\n",
      " 34 35 36 37 38 39 40 41 42 43 44 45 46 47 48 49]\n"
     ]
    }
   ],
   "source": [
    "# solution for exercise 2.43.\n",
    "a = np.arange(0, 50)\n",
    "b = np.arange(10, 50)\n",
    "\n",
    "print(a, '\\n', b)"
   ]
  },
  {
   "cell_type": "markdown",
   "metadata": {},
   "source": [
    "**2.44.Write a NumPy program to Create a 1-D array of 30 evenly spaced elements between 2.5. and 6.5, inclusive.**"
   ]
  },
  {
   "cell_type": "code",
   "execution_count": 19,
   "metadata": {},
   "outputs": [
    {
     "name": "stdout",
     "output_type": "stream",
     "text": [
      "[2.5        2.63793103 2.77586207 2.9137931  3.05172414 3.18965517\n",
      " 3.32758621 3.46551724 3.60344828 3.74137931 3.87931034 4.01724138\n",
      " 4.15517241 4.29310345 4.43103448 4.56896552 4.70689655 4.84482759\n",
      " 4.98275862 5.12068966 5.25862069 5.39655172 5.53448276 5.67241379\n",
      " 5.81034483 5.94827586 6.0862069  6.22413793 6.36206897 6.5       ]\n"
     ]
    }
   ],
   "source": [
    "# solution for exercise 2.44.\n",
    "a = np.linspace(2.5, 6.5, 30)\n",
    "print(a)"
   ]
  },
  {
   "cell_type": "markdown",
   "metadata": {},
   "source": [
    "**2.45.Write a NumPy program to to create a 1-D array of 20 element spaced evenly on a log scale between 2. and 5., exclusive.**"
   ]
  },
  {
   "cell_type": "code",
   "execution_count": 27,
   "metadata": {},
   "outputs": [
    {
     "name": "stdout",
     "output_type": "stream",
     "text": [
      "[  100.           114.81536215   131.82567386   151.35612484\n",
      "   173.78008287   199.5262315    229.08676528   263.02679919\n",
      "   301.99517204   346.73685045   398.10717055   457.08818961\n",
      "   524.80746025   602.55958607   691.83097092   794.32823472\n",
      "   912.01083936  1047.12854805  1202.26443462  1380.3842646\n",
      "  1584.89319246  1819.70085861  2089.29613085  2398.83291902\n",
      "  2754.22870334  3162.27766017  3630.7805477   4168.6938347\n",
      "  4786.30092323  5495.40873858  6309.5734448   7244.35960075\n",
      "  8317.63771103  9549.92586021 10964.78196143 12589.25411794\n",
      " 14454.39770746 16595.86907438 19054.60717963 21877.6162395\n",
      " 25118.8643151  28840.31503127 33113.11214826 38018.93963206\n",
      " 43651.58322402 50118.72336273 57543.99373372 66069.34480076\n",
      " 75857.75750292 87096.35899561]\n"
     ]
    }
   ],
   "source": [
    "# solution for exercise 2.46.\n",
    "a = np.logspace(2, 5, endpoint= False)\n",
    "print(a)"
   ]
  },
  {
   "cell_type": "code",
   "execution_count": null,
   "metadata": {},
   "outputs": [],
   "source": []
  }
 ],
 "metadata": {
  "kernelspec": {
   "display_name": "Python 3",
   "language": "python",
   "name": "python3"
  },
  "language_info": {
   "codemirror_mode": {
    "name": "ipython",
    "version": 3
   },
   "file_extension": ".py",
   "mimetype": "text/x-python",
   "name": "python",
   "nbconvert_exporter": "python",
   "pygments_lexer": "ipython3",
   "version": "3.7.9"
  }
 },
 "nbformat": 4,
 "nbformat_minor": 4
}
