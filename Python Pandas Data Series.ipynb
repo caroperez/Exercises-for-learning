{
 "cells": [
  {
   "cell_type": "markdown",
   "metadata": {},
   "source": [
    "# Python Pandas Data Series: Exercises, Practice, Solution"
   ]
  },
  {
   "cell_type": "code",
   "execution_count": 1,
   "metadata": {},
   "outputs": [],
   "source": [
    "import numpy as np\n",
    "import pandas as pd"
   ]
  },
  {
   "cell_type": "markdown",
   "metadata": {},
   "source": [
    "**1.1.Write a Pandas program to create and display a one-dimensional array-like object containing an array of data using Pandas module.**"
   ]
  },
  {
   "cell_type": "code",
   "execution_count": 6,
   "metadata": {},
   "outputs": [
    {
     "data": {
      "text/plain": [
       "0    1\n",
       "1    2\n",
       "2    3\n",
       "3    4\n",
       "dtype: int64"
      ]
     },
     "execution_count": 6,
     "metadata": {},
     "output_type": "execute_result"
    }
   ],
   "source": [
    "## solution for exercise 1.1.\n",
    "pd.Series(range(1, 5))"
   ]
  },
  {
   "cell_type": "markdown",
   "metadata": {},
   "source": [
    "**1.2.Write a Pandas program to convert a Panda module Series to Python list and it's type.**"
   ]
  },
  {
   "cell_type": "code",
   "execution_count": 8,
   "metadata": {},
   "outputs": [
    {
     "name": "stdout",
     "output_type": "stream",
     "text": [
      "0    1\n",
      "1    2\n",
      "2    3\n",
      "3    4\n",
      "4    5\n",
      "5    6\n",
      "6    7\n",
      "7    8\n",
      "8    9\n",
      "dtype: int64\n",
      "\n",
      "\n",
      "[1, 2, 3, 4, 5, 6, 7, 8, 9]\n"
     ]
    }
   ],
   "source": [
    "# solution for exercise 1.2.\n",
    "a = pd.Series(range(1, 10))\n",
    "print(a)\n",
    "\n",
    "print('\\n')\n",
    "\n",
    "b = a.tolist()\n",
    "print(b)"
   ]
  },
  {
   "cell_type": "markdown",
   "metadata": {},
   "source": [
    "**1.3.Write a Pandas program to add, subtract, multiple and divide two Pandas Series.**"
   ]
  },
  {
   "cell_type": "code",
   "execution_count": 10,
   "metadata": {},
   "outputs": [
    {
     "name": "stdout",
     "output_type": "stream",
     "text": [
      "0     51\n",
      "1     64\n",
      "2     74\n",
      "3     51\n",
      "4     62\n",
      "5     53\n",
      "6     62\n",
      "7     23\n",
      "8     55\n",
      "9     33\n",
      "10    55\n",
      "11    50\n",
      "12    15\n",
      "13    41\n",
      "14    19\n",
      "dtype: int32 \n",
      " 0    -45\n",
      "1     -6\n",
      "2     18\n",
      "3     35\n",
      "4    -14\n",
      "5     -1\n",
      "6      4\n",
      "7    -21\n",
      "8     -5\n",
      "9      3\n",
      "10   -33\n",
      "11    24\n",
      "12    -9\n",
      "13    25\n",
      "14   -11\n",
      "dtype: int32 \n",
      " 0      144\n",
      "1     1015\n",
      "2     1288\n",
      "3      344\n",
      "4      912\n",
      "5      702\n",
      "6      957\n",
      "7       22\n",
      "8      750\n",
      "9      270\n",
      "10     484\n",
      "11     481\n",
      "12      36\n",
      "13     264\n",
      "14      60\n",
      "dtype: int32 \n",
      " 0     0.062500\n",
      "1     0.828571\n",
      "2     1.642857\n",
      "3     5.375000\n",
      "4     0.631579\n",
      "5     0.962963\n",
      "6     1.137931\n",
      "7     0.045455\n",
      "8     0.833333\n",
      "9     1.200000\n",
      "10    0.250000\n",
      "11    2.846154\n",
      "12    0.250000\n",
      "13    4.125000\n",
      "14    0.266667\n",
      "dtype: float64\n"
     ]
    }
   ],
   "source": [
    "# solution for exercise 1.3.\n",
    "a = pd.Series(\n",
    "    np.random.randint(1, 50, 15)\n",
    ")\n",
    "\n",
    "b = pd.Series(\n",
    "    np.random.randint(1, 50, 15)\n",
    ")\n",
    "\n",
    "print(a + b, '\\n', \n",
    "      a - b, '\\n', \n",
    "      a * b, '\\n', \n",
    "      a / b)"
   ]
  },
  {
   "cell_type": "markdown",
   "metadata": {},
   "source": [
    "**1.4.Write a Pandas program to compare the elements of the two Pandas Series.**"
   ]
  },
  {
   "cell_type": "code",
   "execution_count": 11,
   "metadata": {},
   "outputs": [
    {
     "name": "stdout",
     "output_type": "stream",
     "text": [
      "0     False\n",
      "1     False\n",
      "2     False\n",
      "3     False\n",
      "4     False\n",
      "5     False\n",
      "6     False\n",
      "7     False\n",
      "8     False\n",
      "9     False\n",
      "10    False\n",
      "11    False\n",
      "12    False\n",
      "13    False\n",
      "14    False\n",
      "15    False\n",
      "16    False\n",
      "17    False\n",
      "18    False\n",
      "19    False\n",
      "20    False\n",
      "21    False\n",
      "22    False\n",
      "23    False\n",
      "24    False\n",
      "dtype: bool \n",
      " 0      True\n",
      "1     False\n",
      "2     False\n",
      "3      True\n",
      "4      True\n",
      "5      True\n",
      "6     False\n",
      "7      True\n",
      "8     False\n",
      "9      True\n",
      "10    False\n",
      "11    False\n",
      "12    False\n",
      "13    False\n",
      "14     True\n",
      "15     True\n",
      "16     True\n",
      "17    False\n",
      "18    False\n",
      "19    False\n",
      "20     True\n",
      "21    False\n",
      "22     True\n",
      "23     True\n",
      "24     True\n",
      "dtype: bool \n",
      " 0     False\n",
      "1      True\n",
      "2      True\n",
      "3     False\n",
      "4     False\n",
      "5     False\n",
      "6      True\n",
      "7     False\n",
      "8      True\n",
      "9     False\n",
      "10     True\n",
      "11     True\n",
      "12     True\n",
      "13     True\n",
      "14    False\n",
      "15    False\n",
      "16    False\n",
      "17     True\n",
      "18     True\n",
      "19     True\n",
      "20    False\n",
      "21     True\n",
      "22    False\n",
      "23    False\n",
      "24    False\n",
      "dtype: bool \n",
      " 0      True\n",
      "1     False\n",
      "2     False\n",
      "3      True\n",
      "4      True\n",
      "5      True\n",
      "6     False\n",
      "7      True\n",
      "8     False\n",
      "9      True\n",
      "10    False\n",
      "11    False\n",
      "12    False\n",
      "13    False\n",
      "14     True\n",
      "15     True\n",
      "16     True\n",
      "17    False\n",
      "18    False\n",
      "19    False\n",
      "20     True\n",
      "21    False\n",
      "22     True\n",
      "23     True\n",
      "24     True\n",
      "dtype: bool \n",
      " 0      True\n",
      "1     False\n",
      "2     False\n",
      "3      True\n",
      "4      True\n",
      "5      True\n",
      "6     False\n",
      "7      True\n",
      "8     False\n",
      "9      True\n",
      "10    False\n",
      "11    False\n",
      "12    False\n",
      "13    False\n",
      "14     True\n",
      "15     True\n",
      "16     True\n",
      "17    False\n",
      "18    False\n",
      "19    False\n",
      "20     True\n",
      "21    False\n",
      "22     True\n",
      "23     True\n",
      "24     True\n",
      "dtype: bool\n"
     ]
    }
   ],
   "source": [
    "# solution for exercise 1.4.\n",
    "a = pd.Series(np.random.randint(1, 50, 25))\n",
    "b = pd.Series(np.random.randint(1, 50, 25))\n",
    "\n",
    "print(a == b, '\\n',\n",
    "     a >= b, '\\n',\n",
    "     a <= b, '\\n',\n",
    "     a > b, '\\n',\n",
    "     a > b)\n"
   ]
  },
  {
   "cell_type": "markdown",
   "metadata": {},
   "source": [
    "**1.5.Write a Pandas program to convert a dictionary to a Pandas series.**"
   ]
  },
  {
   "cell_type": "code",
   "execution_count": 2,
   "metadata": {},
   "outputs": [
    {
     "name": "stdout",
     "output_type": "stream",
     "text": [
      "First     Barcelona\n",
      "Second       Madrid\n",
      "Trird      Atletico\n",
      "dtype: object\n"
     ]
    }
   ],
   "source": [
    "# solution for exercise 1.5.\n",
    "a = {'First': 'Barcelona', 'Second': 'Madrid', 'Trird': 'Atletico'}\n",
    "\n",
    "print(pd.Series(a))"
   ]
  },
  {
   "cell_type": "markdown",
   "metadata": {},
   "source": [
    "**1.6.Write a Pandas program to convert a NumPy array to a Pandas series.**"
   ]
  },
  {
   "cell_type": "code",
   "execution_count": 5,
   "metadata": {},
   "outputs": [
    {
     "name": "stdout",
     "output_type": "stream",
     "text": [
      "0    1\n",
      "1    4\n",
      "2    2\n",
      "3    3\n",
      "dtype: int32\n"
     ]
    }
   ],
   "source": [
    "# solution for exercise 1.6.\n",
    "a = np.array([1, 4, 2, 3])\n",
    "\n",
    "b = pd.Series(a)\n",
    "print(b)"
   ]
  },
  {
   "cell_type": "markdown",
   "metadata": {},
   "source": [
    "**1.7.Write a Pandas program to change the data type of given a column or a Series.**"
   ]
  },
  {
   "cell_type": "code",
   "execution_count": 9,
   "metadata": {},
   "outputs": [
    {
     "name": "stdout",
     "output_type": "stream",
     "text": [
      "0    1\n",
      "1    2\n",
      "2    3\n",
      "3    4\n",
      "4    5\n",
      "5    6\n",
      "6    7\n",
      "dtype: int32\n",
      "\n",
      "\n",
      "0    1\n",
      "1    2\n",
      "2    3\n",
      "3    4\n",
      "4    5\n",
      "5    6\n",
      "6    7\n",
      "dtype: int16\n"
     ]
    }
   ],
   "source": [
    "# solution for exercise 1.8.\n",
    "a = pd.Series(np.arange(1, 8))\n",
    "print(a)\n",
    "print('\\n')\n",
    "print(a.astype(np.int16))"
   ]
  },
  {
   "cell_type": "markdown",
   "metadata": {},
   "source": [
    "**1.8.Write a Pandas program to convert the first column of a DataFrame as a Series.**"
   ]
  },
  {
   "cell_type": "code",
   "execution_count": 13,
   "metadata": {},
   "outputs": [
    {
     "name": "stdout",
     "output_type": "stream",
     "text": [
      "          0         1\n",
      "0  0.661945  0.035437\n",
      "1  1.328191  0.001975\n",
      "2 -0.204424 -0.534717\n",
      "3  0.259105 -0.862207\n",
      "4 -0.912017 -0.054319\n",
      "5 -0.609419  0.780964\n",
      "6  0.101444 -1.375693\n",
      "7 -2.073285 -0.257840\n",
      "8  1.940726  0.903399\n",
      "9  0.725038  0.595198\n",
      "\n",
      "\n",
      "0    0.661945\n",
      "1    1.328191\n",
      "2   -0.204424\n",
      "3    0.259105\n",
      "4   -0.912017\n",
      "5   -0.609419\n",
      "6    0.101444\n",
      "7   -2.073285\n",
      "8    1.940726\n",
      "9    0.725038\n",
      "Name: 0, dtype: float64\n"
     ]
    }
   ],
   "source": [
    "# solution for exercise 1.8.\n",
    "indx = np.arange(0, 10)\n",
    "col_1 = np.random.normal(0, 1, 10)\n",
    "col_2 = np.random.normal(0, 1, 10)\n",
    "a = pd.DataFrame(zip(col_1, col_2), index= indx)\n",
    "print(a)\n",
    "print('\\n')\n",
    "\n",
    "print(pd.Series(a[0]))"
   ]
  },
  {
   "cell_type": "markdown",
   "metadata": {},
   "source": [
    "**1.9.Write a Pandas program to convert a given Series to an array.**"
   ]
  },
  {
   "cell_type": "code",
   "execution_count": 18,
   "metadata": {},
   "outputs": [
    {
     "name": "stdout",
     "output_type": "stream",
     "text": [
      "0    1\n",
      "1    2\n",
      "2    2\n",
      "3    4\n",
      "4    1\n",
      "5    2\n",
      "6    2\n",
      "7    3\n",
      "8    2\n",
      "9    1\n",
      "dtype: int32\n",
      "\n",
      "\n",
      "[1 2 2 4 1 2 2 3 2 1] <class 'numpy.ndarray'>\n"
     ]
    }
   ],
   "source": [
    "# solution for exercise 1.9.\n",
    "a = pd.Series(np.random.randint(1, 5, 10), index= np.arange(0, 10))\n",
    "print(a)\n",
    "print('\\n')\n",
    "\n",
    "print(np.array(a), type(np.array(a)))"
   ]
  },
  {
   "cell_type": "markdown",
   "metadata": {},
   "source": [
    "**1.10.Write a Pandas program to convert Series of lists to one Series.**"
   ]
  },
  {
   "cell_type": "code",
   "execution_count": 20,
   "metadata": {},
   "outputs": [
    {
     "name": "stdout",
     "output_type": "stream",
     "text": [
      "Original Series of list\n",
      "0    [Red, Green, White]\n",
      "1           [Red, Black]\n",
      "2               [Yellow]\n",
      "dtype: object\n",
      "\n",
      "\n",
      "One Series\n",
      "0       Red\n",
      "1     Green\n",
      "2     White\n",
      "3       Red\n",
      "4     Black\n",
      "5    Yellow\n",
      "dtype: object\n"
     ]
    }
   ],
   "source": [
    "# solution for exercise 1.10.\n",
    "s = pd.Series([\n",
    "    ['Red', 'Green', 'White'],\n",
    "    ['Red', 'Black'],\n",
    "    ['Yellow']])\n",
    "print(\"Original Series of list\")\n",
    "print(s)\n",
    "print('\\n')\n",
    "\n",
    "s = s.apply(pd.Series).stack().reset_index(drop=True)\n",
    "print(\"One Series\")\n",
    "print(s)"
   ]
  },
  {
   "cell_type": "code",
   "execution_count": null,
   "metadata": {},
   "outputs": [],
   "source": []
  }
 ],
 "metadata": {
  "kernelspec": {
   "display_name": "Python 3",
   "language": "python",
   "name": "python3"
  },
  "language_info": {
   "codemirror_mode": {
    "name": "ipython",
    "version": 3
   },
   "file_extension": ".py",
   "mimetype": "text/x-python",
   "name": "python",
   "nbconvert_exporter": "python",
   "pygments_lexer": "ipython3",
   "version": "3.7.9"
  }
 },
 "nbformat": 4,
 "nbformat_minor": 4
}
