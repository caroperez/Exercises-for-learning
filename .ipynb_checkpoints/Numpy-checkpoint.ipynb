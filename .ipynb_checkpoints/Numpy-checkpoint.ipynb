{
 "cells": [
  {
   "cell_type": "markdown",
   "metadata": {},
   "source": [
    "# Numpy"
   ]
  },
  {
   "cell_type": "markdown",
   "metadata": {},
   "source": [
    "Fast and versatile, the NumPy vectorization, indexing, and broadcasting concepts are the de-facto standards of array computing today.\n",
    "\n",
    "NumPy offers comprehensive mathematical functions, random number generators, linear algebra routines, Fourier transforms, and more.\n",
    "\n",
    "NumPy supports a wide range of hardware and computing platforms, and plays well with distributed, GPU, and sparse array libraries.\n",
    "\n",
    "The core of NumPy is well-optimized C code. Enjoy the flexibility of Python with the speed of compiled code.\n",
    "\n",
    "NumPy’s high level syntax makes it accessible and productive for programmers from any background or experience level."
   ]
  },
  {
   "cell_type": "markdown",
   "metadata": {},
   "source": [
    "### 1. NumPy Basic: Exercises, Practice, Solution"
   ]
  },
  {
   "cell_type": "markdown",
   "metadata": {},
   "source": [
    "**1.1.Write a NumPy program to get the numpy version and show numpy build configuration.**"
   ]
  },
  {
   "cell_type": "code",
   "execution_count": 1,
   "metadata": {},
   "outputs": [
    {
     "name": "stdout",
     "output_type": "stream",
     "text": [
      "1.19.2\n",
      "blas_mkl_info:\n",
      "    libraries = ['mkl_rt']\n",
      "    library_dirs = ['C:/ProgramData/Anaconda3\\\\Library\\\\lib']\n",
      "    define_macros = [('SCIPY_MKL_H', None), ('HAVE_CBLAS', None)]\n",
      "    include_dirs = ['C:/ProgramData/Anaconda3\\\\Library\\\\include']\n",
      "blas_opt_info:\n",
      "    libraries = ['mkl_rt']\n",
      "    library_dirs = ['C:/ProgramData/Anaconda3\\\\Library\\\\lib']\n",
      "    define_macros = [('SCIPY_MKL_H', None), ('HAVE_CBLAS', None)]\n",
      "    include_dirs = ['C:/ProgramData/Anaconda3\\\\Library\\\\include']\n",
      "lapack_mkl_info:\n",
      "    libraries = ['mkl_rt']\n",
      "    library_dirs = ['C:/ProgramData/Anaconda3\\\\Library\\\\lib']\n",
      "    define_macros = [('SCIPY_MKL_H', None), ('HAVE_CBLAS', None)]\n",
      "    include_dirs = ['C:/ProgramData/Anaconda3\\\\Library\\\\include']\n",
      "lapack_opt_info:\n",
      "    libraries = ['mkl_rt']\n",
      "    library_dirs = ['C:/ProgramData/Anaconda3\\\\Library\\\\lib']\n",
      "    define_macros = [('SCIPY_MKL_H', None), ('HAVE_CBLAS', None)]\n",
      "    include_dirs = ['C:/ProgramData/Anaconda3\\\\Library\\\\include']\n",
      "None\n"
     ]
    }
   ],
   "source": [
    "# package\n",
    "import numpy as np\n",
    "\n",
    "# solution for exercise 1.1.\n",
    "print(np.__version__)\n",
    "print(np.show_config())"
   ]
  },
  {
   "cell_type": "markdown",
   "metadata": {},
   "source": [
    "**1.2. Write a NumPy program to  get help on the add function.**"
   ]
  },
  {
   "cell_type": "code",
   "execution_count": 2,
   "metadata": {},
   "outputs": [
    {
     "name": "stdout",
     "output_type": "stream",
     "text": [
      "add(x1, x2, /, out=None, *, where=True, casting='same_kind', order='K', dtype=None, subok=True[, signature, extobj])\n",
      "\n",
      "Add arguments element-wise.\n",
      "\n",
      "Parameters\n",
      "----------\n",
      "x1, x2 : array_like\n",
      "    The arrays to be added.\n",
      "    If ``x1.shape != x2.shape``, they must be broadcastable to a common\n",
      "    shape (which becomes the shape of the output).\n",
      "out : ndarray, None, or tuple of ndarray and None, optional\n",
      "    A location into which the result is stored. If provided, it must have\n",
      "    a shape that the inputs broadcast to. If not provided or None,\n",
      "    a freshly-allocated array is returned. A tuple (possible only as a\n",
      "    keyword argument) must have length equal to the number of outputs.\n",
      "where : array_like, optional\n",
      "    This condition is broadcast over the input. At locations where the\n",
      "    condition is True, the `out` array will be set to the ufunc result.\n",
      "    Elsewhere, the `out` array will retain its original value.\n",
      "    Note that if an uninitialized `out` array is created via the default\n",
      "    ``out=None``, locations within it where the condition is False will\n",
      "    remain uninitialized.\n",
      "**kwargs\n",
      "    For other keyword-only arguments, see the\n",
      "    :ref:`ufunc docs <ufuncs.kwargs>`.\n",
      "\n",
      "Returns\n",
      "-------\n",
      "add : ndarray or scalar\n",
      "    The sum of `x1` and `x2`, element-wise.\n",
      "    This is a scalar if both `x1` and `x2` are scalars.\n",
      "\n",
      "Notes\n",
      "-----\n",
      "Equivalent to `x1` + `x2` in terms of array broadcasting.\n",
      "\n",
      "Examples\n",
      "--------\n",
      ">>> np.add(1.0, 4.0)\n",
      "5.0\n",
      ">>> x1 = np.arange(9.0).reshape((3, 3))\n",
      ">>> x2 = np.arange(3.0)\n",
      ">>> np.add(x1, x2)\n",
      "array([[  0.,   2.,   4.],\n",
      "       [  3.,   5.,   7.],\n",
      "       [  6.,   8.,  10.]])\n",
      "None\n"
     ]
    }
   ],
   "source": [
    "# solution exercise 1.2.\n",
    "print(np.info(np.add))"
   ]
  },
  {
   "cell_type": "markdown",
   "metadata": {},
   "source": [
    "**1.3. Write a NumPy program to test whether none of the elements of a given array is zero.**"
   ]
  },
  {
   "cell_type": "code",
   "execution_count": 3,
   "metadata": {},
   "outputs": [
    {
     "name": "stdout",
     "output_type": "stream",
     "text": [
      "True\n",
      "\n",
      "\n",
      "False\n"
     ]
    }
   ],
   "source": [
    "# solution exercise 1.3.\n",
    "\n",
    "# function\n",
    "def any_zero_(x):\n",
    "    '''This program test if have wheter none of the elements given in x is zero.\n",
    "    any_zero_(x) x should be a number or group of numbers'''\n",
    "    return np.all(x)\n",
    "\n",
    "# 2 data elements\n",
    "a = [4, 6, 2, 10]\n",
    "b = [1, 0, 4, 2]\n",
    "\n",
    "# run program\n",
    "print(any_zero_(a)) # expectec False\n",
    "print('\\n') # spaces between answers\n",
    "print(any_zero_(b)) # expectet True"
   ]
  },
  {
   "cell_type": "markdown",
   "metadata": {},
   "source": [
    "**1.4. Write a NumPy program to test whether any of the elements of a given array is non-zero.**"
   ]
  },
  {
   "cell_type": "code",
   "execution_count": 4,
   "metadata": {},
   "outputs": [
    {
     "name": "stdout",
     "output_type": "stream",
     "text": [
      "6.08 µs ± 398 ns per loop (mean ± std. dev. of 7 runs, 100000 loops each)\n"
     ]
    }
   ],
   "source": [
    "# solution exercise 1.4\n",
    "\n",
    "# function A\n",
    "def noany_zero_(x):\n",
    "    '''This program test if have wheter any of the elements given in x is zero.\n",
    "    any_zero_(x) x should be a number or group of numbers'''\n",
    "    return (~(np.all(x)))\n",
    "\n",
    "# funtion B\n",
    "def noany_zero_2(x):\n",
    "    '''This program test if have wheter any of the elements given in x is zero.\n",
    "    any_zero_(x) x should be a number or group of numbers'''\n",
    "    return np.any(x)\n",
    "\n",
    "# run program\n",
    " \n",
    "%timeit noany_zero_(a) # expectec True\n",
    "\n",
    "\n",
    "# %timeit noany_zero_2(b) # expectec False"
   ]
  },
  {
   "cell_type": "code",
   "execution_count": 5,
   "metadata": {},
   "outputs": [
    {
     "name": "stdout",
     "output_type": "stream",
     "text": [
      "4.93 µs ± 184 ns per loop (mean ± std. dev. of 7 runs, 100000 loops each)\n"
     ]
    }
   ],
   "source": [
    "# it's faster function 2 (expected)\n",
    "%timeit noany_zero_2(b) # expectec False"
   ]
  },
  {
   "cell_type": "markdown",
   "metadata": {},
   "source": [
    "**1.5. Write a NumPy program to test a given array element-wise for finiteness (not infinity or not a Number).**"
   ]
  },
  {
   "cell_type": "code",
   "execution_count": 6,
   "metadata": {},
   "outputs": [
    {
     "data": {
      "text/plain": [
       "True"
      ]
     },
     "execution_count": 6,
     "metadata": {},
     "output_type": "execute_result"
    }
   ],
   "source": [
    "# solution exercise 1.5.\n",
    "\n",
    "# function \n",
    "def is_finite(x):\n",
    "    '''Function for determinates if one number X is finite\n",
    "    is_finite(x)'''\n",
    "    return np.isfinite(x)\n",
    "\n",
    "# data \n",
    "a = 1000\n",
    "\n",
    "# run function\n",
    "is_finite(a)"
   ]
  },
  {
   "cell_type": "markdown",
   "metadata": {},
   "source": [
    "**1.6.Write a NumPy program to test element-wise for positive or negative infinity.**"
   ]
  },
  {
   "cell_type": "code",
   "execution_count": 7,
   "metadata": {},
   "outputs": [
    {
     "data": {
      "text/plain": [
       "array([False, False, False, False,  True, False, False, False, False,\n",
       "       False])"
      ]
     },
     "execution_count": 7,
     "metadata": {},
     "output_type": "execute_result"
    }
   ],
   "source": [
    "# soultion for exercise 1.6\n",
    "\n",
    "# data \n",
    "a = np.random.normal(10, 20, 10)\n",
    "a[4] = np.inf\n",
    "\n",
    "# run numpy command\n",
    "np.isinf(a)"
   ]
  },
  {
   "cell_type": "markdown",
   "metadata": {},
   "source": [
    "**1.7.Write a NumPy program to test element-wise for NaN of a given array.**"
   ]
  },
  {
   "cell_type": "code",
   "execution_count": 8,
   "metadata": {},
   "outputs": [
    {
     "data": {
      "text/plain": [
       "array([ True, False, False,  True, False, False,  True, False, False,\n",
       "        True, False, False,  True, False, False,  True, False, False,\n",
       "        True, False, False,  True, False, False,  True, False, False,\n",
       "        True, False, False,  True, False, False,  True, False, False,\n",
       "        True, False, False,  True, False, False,  True, False, False,\n",
       "        True, False, False,  True, False])"
      ]
     },
     "execution_count": 8,
     "metadata": {},
     "output_type": "execute_result"
    }
   ],
   "source": [
    "# solution for exercise 1.7.\n",
    "a = np.random.normal(10, 20, 100)\n",
    "a[::3] = np.nan\n",
    "\n",
    "# run numpy command\n",
    "np.isnan(a[::2])"
   ]
  },
  {
   "cell_type": "markdown",
   "metadata": {},
   "source": [
    "**1.8.Write a NumPy program to test element-wise for complex number, real number of a given array. Also test whether a given number is a scalar type or not.**"
   ]
  },
  {
   "cell_type": "code",
   "execution_count": 9,
   "metadata": {},
   "outputs": [
    {
     "name": "stdout",
     "output_type": "stream",
     "text": [
      "Is complex: False \n",
      " Is real: True \n",
      " Is scalar: True\n"
     ]
    }
   ],
   "source": [
    "# solution exercise 1.8.\n",
    "a = 3\n",
    "print('Is complex:', np.iscomplex(a), '\\n', 'Is real:', \n",
    "      np.isreal(a), '\\n', 'Is scalar:', np.isscalar(a))"
   ]
  },
  {
   "cell_type": "markdown",
   "metadata": {},
   "source": [
    "**1.9.Write a NumPy program to test whether two arrays are element-wise equal within a tolerance.**"
   ]
  },
  {
   "cell_type": "code",
   "execution_count": 10,
   "metadata": {},
   "outputs": [
    {
     "data": {
      "text/plain": [
       "True"
      ]
     },
     "execution_count": 10,
     "metadata": {},
     "output_type": "execute_result"
    }
   ],
   "source": [
    "a = 1.99999999999999999999999999999999999999\n",
    "b = 1 + .999999999999999999999999999999999999\n",
    "\n",
    "# solution exercise 9\n",
    "np.allclose(a, b)"
   ]
  },
  {
   "cell_type": "markdown",
   "metadata": {},
   "source": [
    "**1.10.Write a NumPy program to create an element-wise comparison (greater, greater_equal, less and less_equal) of two given arrays.**"
   ]
  },
  {
   "cell_type": "code",
   "execution_count": 11,
   "metadata": {},
   "outputs": [
    {
     "name": "stdout",
     "output_type": "stream",
     "text": [
      "[[ 0  1  2  3  4]\n",
      " [ 5  6  7  8  9]\n",
      " [10 11 12 13 14]\n",
      " [15 16 17 18 19]\n",
      " [20 21 22 23 24]] \n",
      " [[10.10960591  4.91989177  8.51917789 10.9150191  13.83326753]\n",
      " [10.47118081  8.34300313  9.75690949 14.07697209  6.88093594]\n",
      " [18.550012    9.97634369 19.65514347 17.10506659 -1.88200566]\n",
      " [12.4095231   4.22170805  8.01671572 14.29123017 13.82840746]\n",
      " [11.7053393  15.35085236  9.56177497 15.04585562 12.72183235]]\n",
      "\n",
      " B values greater than A: \n",
      " [[False False False False False]\n",
      " [False False False False  True]\n",
      " [False  True False False  True]\n",
      " [ True  True  True  True  True]\n",
      " [ True  True  True  True  True]]\n",
      "\n",
      " B values greater-equal than A: \n",
      " [[False False False False False]\n",
      " [False False False False  True]\n",
      " [False  True False False  True]\n",
      " [ True  True  True  True  True]\n",
      " [ True  True  True  True  True]]\n",
      "\n",
      " B values less-equal than A: \n",
      " [[ True  True  True  True  True]\n",
      " [ True  True  True  True False]\n",
      " [ True False  True  True False]\n",
      " [False False False False False]\n",
      " [False False False False False]]\n",
      "\n",
      " B values less than A: \n",
      " [[ True  True  True  True  True]\n",
      " [ True  True  True  True False]\n",
      " [ True False  True  True False]\n",
      " [False False False False False]\n",
      " [False False False False False]]\n"
     ]
    }
   ],
   "source": [
    "# create matrix\n",
    "a = np.arange(25).reshape(5, 5)\n",
    "b = np.random.normal(12, 5, 25).reshape(5, 5)\n",
    "\n",
    "print(a, '\\n', b)\n",
    "\n",
    "# compare\n",
    "print('\\n', 'B values greater than A:', '\\n', np.greater(a, b))\n",
    "print('\\n', 'B values greater-equal than A:', '\\n', np.greater_equal(a, b))\n",
    "print('\\n', 'B values less-equal than A:', '\\n', np.less_equal(a, b))\n",
    "print('\\n', 'B values less than A:', '\\n', np.less(a, b))"
   ]
  },
  {
   "cell_type": "code",
   "execution_count": 12,
   "metadata": {},
   "outputs": [
    {
     "name": "stdout",
     "output_type": "stream",
     "text": [
      "1.11 µs ± 39.3 ns per loop (mean ± std. dev. of 7 runs, 1000000 loops each)\n",
      "1.09 µs ± 12.2 ns per loop (mean ± std. dev. of 7 runs, 1000000 loops each)\n"
     ]
    }
   ],
   "source": [
    "# note the diference of time in running\n",
    "%timeit np.greater(a, b)\n",
    "%timeit a > b"
   ]
  },
  {
   "cell_type": "markdown",
   "metadata": {},
   "source": [
    "**1.11.Write a NumPy program to create an element-wise comparison (equal, equal within a tolerance) of two given arrays.**"
   ]
  },
  {
   "cell_type": "code",
   "execution_count": 13,
   "metadata": {},
   "outputs": [
    {
     "name": "stdout",
     "output_type": "stream",
     "text": [
      "All equal exactly: [[False False False False False]\n",
      " [False False False False False]\n",
      " [ True  True  True  True  True]\n",
      " [False False False False False]\n",
      " [False False False False False]]\n",
      "\n",
      " All equal: False\n",
      "\n",
      " All equal: False\n"
     ]
    }
   ],
   "source": [
    "# solution for exercise 1.11\n",
    "# data\n",
    "a = np.random.normal(5, .1, 50).reshape(10, 5)\n",
    "b = np.random.normal(5, .1, 50).reshape(10, 5)\n",
    "c = np.arange(25).reshape(5, 5)\n",
    "d = c.copy()\n",
    "\n",
    "# equal\n",
    "print('All equal exactly:', np.equal(c, d[::-1]))\n",
    "\n",
    "# equal with tolerante\n",
    "print('\\n', 'All equal:', np.allclose(a, b))\n",
    "print('\\n', 'All equal:', np.allclose(c, d[::-1]))"
   ]
  },
  {
   "cell_type": "markdown",
   "metadata": {},
   "source": [
    "**1.12.Write a NumPy program to create an array with the values 1, 7, 13, 105 and determine the size of the memory occupied by the array.**"
   ]
  },
  {
   "cell_type": "code",
   "execution_count": 14,
   "metadata": {},
   "outputs": [
    {
     "name": "stdout",
     "output_type": "stream",
     "text": [
      "[  1   7  13 105] \n",
      " 16  bytes\n"
     ]
    }
   ],
   "source": [
    "# solution for exercise 1.12\n",
    "# create a array with number 1, 7, 13, 105\n",
    "a = np.array([1, 7, 13, 105])\n",
    "\n",
    "# memory loc\n",
    "print(a, '\\n', a.size * a.itemsize, ' bytes')"
   ]
  },
  {
   "cell_type": "markdown",
   "metadata": {},
   "source": [
    "**1.13.Write a NumPy program to create an array of 10 zeros,10 ones, 10 fives.**"
   ]
  },
  {
   "cell_type": "code",
   "execution_count": 15,
   "metadata": {},
   "outputs": [
    {
     "name": "stdout",
     "output_type": "stream",
     "text": [
      "[0. 0. 0. 0. 0. 0. 0. 0. 0. 0.]\n",
      "\n",
      "\n",
      "[1. 1. 1. 1. 1. 1. 1. 1. 1. 1.]\n",
      "\n",
      "\n",
      "[5. 5. 5. 5. 5. 5. 5. 5. 5. 5.]\n"
     ]
    }
   ],
   "source": [
    "# solution for exercise 1.13.\n",
    "print(np.zeros(10))\n",
    "print('\\n')\n",
    "print(np.ones(10))\n",
    "print('\\n')\n",
    "print(np.ones(10) * 5)"
   ]
  },
  {
   "cell_type": "markdown",
   "metadata": {},
   "source": [
    "**1.14.Write a NumPy program to create an array of the integers from 30 to70.**"
   ]
  },
  {
   "cell_type": "code",
   "execution_count": 16,
   "metadata": {},
   "outputs": [
    {
     "name": "stdout",
     "output_type": "stream",
     "text": [
      "[30 31 32 33 34 35 36 37 38 39 40 41 42 43 44 45 46 47 48 49 50 51 52 53\n",
      " 54 55 56 57 58 59 60 61 62 63 64 65 66 67 68 69 70]\n"
     ]
    }
   ],
   "source": [
    "# solution for exercise 1.14.\n",
    "print(np.arange(30, 71))"
   ]
  },
  {
   "cell_type": "markdown",
   "metadata": {},
   "source": [
    "**1.15.Write a NumPy program to create an array of all the even integers from 30 to 70.**"
   ]
  },
  {
   "cell_type": "code",
   "execution_count": 17,
   "metadata": {},
   "outputs": [
    {
     "name": "stdout",
     "output_type": "stream",
     "text": [
      "[30 32 34 36 38 40 42 44 46 48 50 52 54 56 58 60 62 64 66 68 70]\n"
     ]
    }
   ],
   "source": [
    "# solution for exercise 1.15.\n",
    "print(np.arange(30, 71, 2))"
   ]
  },
  {
   "cell_type": "markdown",
   "metadata": {},
   "source": [
    "**1.16.Write a NumPy program to create a 3x3 identity matrix.**"
   ]
  },
  {
   "cell_type": "code",
   "execution_count": 18,
   "metadata": {},
   "outputs": [
    {
     "data": {
      "text/plain": [
       "array([[1., 0., 0.],\n",
       "       [0., 1., 0.],\n",
       "       [0., 0., 1.]])"
      ]
     },
     "execution_count": 18,
     "metadata": {},
     "output_type": "execute_result"
    }
   ],
   "source": [
    "# soultion for exercise 1.16.\n",
    "# identity matrix\n",
    "np.eye(3, 3)"
   ]
  },
  {
   "cell_type": "markdown",
   "metadata": {},
   "source": [
    "**1.17.Write a NumPy program to generate a random number between 0 and 1.**"
   ]
  },
  {
   "cell_type": "code",
   "execution_count": 19,
   "metadata": {},
   "outputs": [
    {
     "data": {
      "text/plain": [
       "array([0.92637184])"
      ]
     },
     "execution_count": 19,
     "metadata": {},
     "output_type": "execute_result"
    }
   ],
   "source": [
    "# solution for exercise 1.17.\n",
    "np.random.rand(1)"
   ]
  },
  {
   "cell_type": "markdown",
   "metadata": {},
   "source": [
    "**1.18.Write a NumPy program to generate an array of 15 random numbers from a standard normal distribution.**"
   ]
  },
  {
   "cell_type": "code",
   "execution_count": 20,
   "metadata": {},
   "outputs": [
    {
     "data": {
      "text/plain": [
       "array([[ 0.00708907, -0.4723369 , -1.38977114, -0.3835426 , -1.37420684],\n",
       "       [ 0.31474311, -0.84561494, -0.65928771, -0.26634947, -0.91772935],\n",
       "       [-0.29653332,  0.93291028,  0.38065662, -0.42811235,  0.85959501]])"
      ]
     },
     "execution_count": 20,
     "metadata": {},
     "output_type": "execute_result"
    }
   ],
   "source": [
    "# soultion for exercise 1.18.\n",
    "np.random.normal(0, 1, 15).reshape(3, 5)"
   ]
  },
  {
   "cell_type": "markdown",
   "metadata": {},
   "source": [
    "**1.19.Write a NumPy program to create a vector with values ranging from 15 to 55 and print all values except the first and last.**"
   ]
  },
  {
   "cell_type": "code",
   "execution_count": 21,
   "metadata": {},
   "outputs": [
    {
     "data": {
      "text/plain": [
       "array([16, 17, 18, 19, 20, 21, 22, 23, 24, 25, 26, 27, 28, 29, 30, 31, 32,\n",
       "       33, 34, 35, 36, 37, 38, 39, 40, 41, 42, 43, 44, 45, 46, 47, 48, 49,\n",
       "       50, 51, 52, 53])"
      ]
     },
     "execution_count": 21,
     "metadata": {},
     "output_type": "execute_result"
    }
   ],
   "source": [
    "# solution for exercise 1.19.\n",
    "np.arange(15, 55)[1: -1]"
   ]
  },
  {
   "cell_type": "markdown",
   "metadata": {},
   "source": [
    "**1.20.Write a NumPy program to create a 3X4 array using and iterate over it.**"
   ]
  },
  {
   "cell_type": "code",
   "execution_count": 22,
   "metadata": {},
   "outputs": [
    {
     "data": {
      "text/plain": [
       "array([[ 0,  1,  2,  3],\n",
       "       [ 4,  5,  6,  7],\n",
       "       [ 8,  9, 10, 11]])"
      ]
     },
     "execution_count": 22,
     "metadata": {},
     "output_type": "execute_result"
    }
   ],
   "source": [
    "# soultion for exercise 1.20.\n",
    "np.arange(0, 12).reshape(3, 4)"
   ]
  },
  {
   "cell_type": "markdown",
   "metadata": {},
   "source": [
    "**1.21.Write a NumPy program to create a vector of length 10 with values evenly distributed between 5 and 50.**"
   ]
  },
  {
   "cell_type": "code",
   "execution_count": 23,
   "metadata": {},
   "outputs": [
    {
     "data": {
      "text/plain": [
       "array([ 5,  7,  9, 11, 13, 15, 17, 19, 21, 23, 25, 27, 29, 31, 33, 35, 37,\n",
       "       39, 41, 43, 45, 47, 49])"
      ]
     },
     "execution_count": 23,
     "metadata": {},
     "output_type": "execute_result"
    }
   ],
   "source": [
    "# solution for exercise 1.21.\n",
    "np.arange(5, 50, 2)"
   ]
  },
  {
   "cell_type": "markdown",
   "metadata": {},
   "source": [
    "**1.22.Write a NumPy program to create a vector with values from 0 to 20 and change the sign of the numbers in the range from 9 to 15.**"
   ]
  },
  {
   "cell_type": "code",
   "execution_count": 33,
   "metadata": {},
   "outputs": [
    {
     "name": "stdout",
     "output_type": "stream",
     "text": [
      "[  0   1   2   3   4   5   6   7   8   9 -10 -11 -12 -13 -14  15  16  17\n",
      "  18  19]\n"
     ]
    }
   ],
   "source": [
    "# solution for exercise 1.22.\n",
    "a = np.arange(0, 20)\n",
    "a[(a > 9) & (a < 15)] = a[(a > 9) & (a < 15)] * -1\n",
    "\n",
    "print(a)"
   ]
  },
  {
   "cell_type": "markdown",
   "metadata": {},
   "source": [
    "**1.23.Write a NumPy program to create a vector of length 5 filled with arbitrary integers from 0 to 10.**"
   ]
  },
  {
   "cell_type": "code",
   "execution_count": 34,
   "metadata": {},
   "outputs": [
    {
     "data": {
      "text/plain": [
       "array([2, 2, 0, 7, 7])"
      ]
     },
     "execution_count": 34,
     "metadata": {},
     "output_type": "execute_result"
    }
   ],
   "source": [
    "# solution for exercise 1.23.\n",
    "np.random.randint(0, 10, 5)"
   ]
  },
  {
   "cell_type": "markdown",
   "metadata": {},
   "source": [
    "**1.24.Write a NumPy program to multiply the values of two given vectors.**"
   ]
  },
  {
   "cell_type": "code",
   "execution_count": 36,
   "metadata": {},
   "outputs": [
    {
     "data": {
      "text/plain": [
       "array([230, 176, 399, 162, 414,  91, 273,  64, 154, 210])"
      ]
     },
     "execution_count": 36,
     "metadata": {},
     "output_type": "execute_result"
    }
   ],
   "source": [
    "# solucion exercise 1.24.\n",
    "a = np.random.randint(1, 25, 10)\n",
    "b = np.random.randint(1, 25, 10)\n",
    "\n",
    "# product\n",
    "np.multiply(a, b)"
   ]
  },
  {
   "cell_type": "markdown",
   "metadata": {},
   "source": [
    "**1.25.Write a NumPy program to create a 3x4 matrix filled with values from 10 to 21.**"
   ]
  },
  {
   "cell_type": "code",
   "execution_count": 38,
   "metadata": {},
   "outputs": [
    {
     "data": {
      "text/plain": [
       "array([[10, 11, 12, 13],\n",
       "       [14, 15, 16, 17],\n",
       "       [18, 19, 20, 21]])"
      ]
     },
     "execution_count": 38,
     "metadata": {},
     "output_type": "execute_result"
    }
   ],
   "source": [
    "# soultion for exercise 1.25.\n",
    "np.arange(10, 22).reshape(3, 4)"
   ]
  },
  {
   "cell_type": "markdown",
   "metadata": {},
   "source": [
    "**1.26.Write a NumPy program to find the number of rows and columns of a given matrix.**"
   ]
  },
  {
   "cell_type": "code",
   "execution_count": 44,
   "metadata": {},
   "outputs": [
    {
     "data": {
      "text/plain": [
       "(5, 5)"
      ]
     },
     "execution_count": 44,
     "metadata": {},
     "output_type": "execute_result"
    }
   ],
   "source": [
    "# solution for exercise 1.26.\n",
    "# matrix\n",
    "a = np.zeros(25).reshape(5, 5)\n",
    "a.shape"
   ]
  },
  {
   "cell_type": "markdown",
   "metadata": {},
   "source": [
    "**1.27.Write a NumPy program to create a 3x3 identity matrix, i.e. diagonal elements are 1, the rest are 0.**"
   ]
  },
  {
   "cell_type": "code",
   "execution_count": 45,
   "metadata": {},
   "outputs": [
    {
     "data": {
      "text/plain": [
       "array([[1., 0., 0.],\n",
       "       [0., 1., 0.],\n",
       "       [0., 0., 1.]])"
      ]
     },
     "execution_count": 45,
     "metadata": {},
     "output_type": "execute_result"
    }
   ],
   "source": [
    "# solution for exercise 1.27.\n",
    "np.eye(3, 3)"
   ]
  },
  {
   "cell_type": "markdown",
   "metadata": {},
   "source": [
    "**1.28.Write a NumPy program to create a 10x10 matrix, in which the elements on the borders will be equal to 1, and inside 0.**"
   ]
  },
  {
   "cell_type": "code",
   "execution_count": 52,
   "metadata": {},
   "outputs": [
    {
     "data": {
      "text/plain": [
       "array([[1., 1., 1., 1., 1., 1., 1., 1., 1., 1.],\n",
       "       [1., 0., 0., 0., 0., 0., 0., 0., 0., 1.],\n",
       "       [1., 0., 0., 0., 0., 0., 0., 0., 0., 1.],\n",
       "       [1., 0., 0., 0., 0., 0., 0., 0., 0., 1.],\n",
       "       [1., 0., 0., 0., 0., 0., 0., 0., 0., 1.],\n",
       "       [1., 0., 0., 0., 0., 0., 0., 0., 0., 1.],\n",
       "       [1., 0., 0., 0., 0., 0., 0., 0., 0., 1.],\n",
       "       [1., 0., 0., 0., 0., 0., 0., 0., 0., 1.],\n",
       "       [1., 0., 0., 0., 0., 0., 0., 0., 0., 1.],\n",
       "       [1., 1., 1., 1., 1., 1., 1., 1., 1., 1.]])"
      ]
     },
     "execution_count": 52,
     "metadata": {},
     "output_type": "execute_result"
    }
   ],
   "source": [
    "# solution for exercise 1.28.\n",
    "a = np.ones(100).reshape(10, 10)\n",
    "a[1:9, 1:9] -= 1\n",
    "a"
   ]
  },
  {
   "cell_type": "markdown",
   "metadata": {},
   "source": [
    "**1.29.Write a NumPy program to create a 5x5 zero matrix with elements on the main diagonal equal to 1, 2, 3, 4, 5.**"
   ]
  },
  {
   "cell_type": "code",
   "execution_count": 60,
   "metadata": {},
   "outputs": [
    {
     "data": {
      "text/plain": [
       "array([[1, 0, 0, 0, 0],\n",
       "       [0, 2, 0, 0, 0],\n",
       "       [0, 0, 3, 0, 0],\n",
       "       [0, 0, 0, 4, 0],\n",
       "       [0, 0, 0, 0, 5]])"
      ]
     },
     "execution_count": 60,
     "metadata": {},
     "output_type": "execute_result"
    }
   ],
   "source": [
    "# solution for exercise 1.29.\n",
    "np.diag(range(1, 6))"
   ]
  },
  {
   "cell_type": "markdown",
   "metadata": {},
   "source": [
    "**1.30.Write a NumPy program to create a 4x4 matrix in which 0 and 1 are staggered, with zeros on the main diagonal.**"
   ]
  },
  {
   "cell_type": "code",
   "execution_count": 126,
   "metadata": {},
   "outputs": [
    {
     "name": "stdout",
     "output_type": "stream",
     "text": [
      "[[0. 1. 0. 1.]\n",
      " [1. 0. 1. 0.]\n",
      " [0. 1. 0. 1.]\n",
      " [1. 0. 1. 0.]]\n"
     ]
    }
   ],
   "source": [
    "# soultion for exercise 1.30.\n",
    "x = np.zeros((4, 4))\n",
    "x[::2, 1::2] = 1\n",
    "x[1::2, ::2] = 1\n",
    "\n",
    "print(x)"
   ]
  },
  {
   "cell_type": "markdown",
   "metadata": {},
   "source": [
    "**1.31.Write a NumPy program to create a 3x3x3 array filled with arbitrary values.**"
   ]
  },
  {
   "cell_type": "code",
   "execution_count": 127,
   "metadata": {},
   "outputs": [
    {
     "data": {
      "text/plain": [
       "array([[[75, 54, 72],\n",
       "        [78, 47, 25],\n",
       "        [40, 98, 95]],\n",
       "\n",
       "       [[49, 57, 17],\n",
       "        [62, 64, 43],\n",
       "        [70, 60, 90]],\n",
       "\n",
       "       [[97,  9, 28],\n",
       "        [24, 61, 71],\n",
       "        [46, 65,  2]]])"
      ]
     },
     "execution_count": 127,
     "metadata": {},
     "output_type": "execute_result"
    }
   ],
   "source": [
    "# soultion for exercise 1.31.\n",
    "np.random.randint(1, 99, 27).reshape(3, 3, 3)"
   ]
  },
  {
   "cell_type": "markdown",
   "metadata": {},
   "source": [
    "**1.32.Write a NumPy program to compute sum of all elements, sum of each column and sum of each row of a given array.**"
   ]
  },
  {
   "cell_type": "code",
   "execution_count": 132,
   "metadata": {},
   "outputs": [
    {
     "name": "stdout",
     "output_type": "stream",
     "text": [
      "row sum: [66 83 64 78 50] \n",
      " column sum: [88 38 60 70 85]\n"
     ]
    }
   ],
   "source": [
    "# soultion for exercise 1.33.\n",
    "# data \n",
    "a = np.random.randint(1, 25, 25).reshape(5, 5)\n",
    "print('row sum:', a.sum(axis = 0), '\\n', 'column sum:', a.sum(axis = 1))"
   ]
  },
  {
   "cell_type": "markdown",
   "metadata": {},
   "source": [
    "**1.33.Write a NumPy program to compute the inner product of two given vectors.**"
   ]
  },
  {
   "cell_type": "code",
   "execution_count": 133,
   "metadata": {},
   "outputs": [
    {
     "data": {
      "text/plain": [
       "156"
      ]
     },
     "execution_count": 133,
     "metadata": {},
     "output_type": "execute_result"
    }
   ],
   "source": [
    "# solution for exercise 1.33.\n",
    "a = np.random.randint(1, 5, 25)\n",
    "b = np.random.randint(1, 5, 25)\n",
    "\n",
    "a.dot(b)"
   ]
  },
  {
   "cell_type": "markdown",
   "metadata": {},
   "source": [
    "**1.34.Write a NumPy program to add a vector to each row of a given matrix.**"
   ]
  },
  {
   "cell_type": "code",
   "execution_count": 150,
   "metadata": {},
   "outputs": [
    {
     "data": {
      "text/plain": [
       "array([[180, 160, 148,  85, 114, 190,  96, 145, 190,  85],\n",
       "       [175, 178, 168,  92, 120, 193,  54, 134,  94,  76],\n",
       "       [133, 102,  98, 149, 166, 135,  81, 106, 158, 141],\n",
       "       [173, 193, 181,  82, 117, 188,  57,  98, 180, 139],\n",
       "       [186, 136, 120, 136, 169, 175,  33, 133, 149, 110]])"
      ]
     },
     "execution_count": 150,
     "metadata": {},
     "output_type": "execute_result"
    }
   ],
   "source": [
    "# solution for exercise 1.34.\n",
    "# matrix\n",
    "a = np.random.randint(1, 100, 50).reshape(5, 10)\n",
    "# vector\n",
    "b = np.random.randint(1, 100, 10)\n",
    "\n",
    "# sum each row\n",
    "a + b "
   ]
  },
  {
   "cell_type": "markdown",
   "metadata": {},
   "source": [
    "**1.35.Write a NumPy program to save a given array to a binary file.**"
   ]
  },
  {
   "cell_type": "code",
   "execution_count": 170,
   "metadata": {},
   "outputs": [
    {
     "name": "stdout",
     "output_type": "stream",
     "text": [
      "[2 1 5 3 5 5 1 5 1 4] \n",
      " ['00000010', '00000001', '00000101', '00000011', '00000101', '00000101', '00000001', '00000101', '00000001', '00000100']\n"
     ]
    }
   ],
   "source": [
    "# solution for exercise 1.35.\n",
    "a = np.random.randint(1, 6, 10)\n",
    "print(a, '\\n', ['{0:08b}'.format(i) for i in a])"
   ]
  },
  {
   "cell_type": "code",
   "execution_count": null,
   "metadata": {},
   "outputs": [],
   "source": []
  }
 ],
 "metadata": {
  "kernelspec": {
   "display_name": "Python 3",
   "language": "python",
   "name": "python3"
  },
  "language_info": {
   "codemirror_mode": {
    "name": "ipython",
    "version": 3
   },
   "file_extension": ".py",
   "mimetype": "text/x-python",
   "name": "python",
   "nbconvert_exporter": "python",
   "pygments_lexer": "ipython3",
   "version": "3.7.9"
  }
 },
 "nbformat": 4,
 "nbformat_minor": 4
}
